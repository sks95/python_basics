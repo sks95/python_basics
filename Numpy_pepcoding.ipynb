{
  "nbformat": 4,
  "nbformat_minor": 0,
  "metadata": {
    "colab": {
      "name": "Numpy_pepcoding.ipynb",
      "provenance": [],
      "collapsed_sections": [],
      "authorship_tag": "ABX9TyMEKOmTtdb7DSiUNLepTR6o",
      "include_colab_link": true
    },
    "kernelspec": {
      "name": "python3",
      "display_name": "Python 3"
    },
    "language_info": {
      "name": "python"
    }
  },
  "cells": [
    {
      "cell_type": "markdown",
      "metadata": {
        "id": "view-in-github",
        "colab_type": "text"
      },
      "source": [
        "<a href=\"https://colab.research.google.com/github/sks95/python_basics/blob/main/Numpy_pepcoding.ipynb\" target=\"_parent\"><img src=\"https://colab.research.google.com/assets/colab-badge.svg\" alt=\"Open In Colab\"/></a>"
      ]
    },
    {
      "cell_type": "code",
      "execution_count": 2,
      "metadata": {
        "colab": {
          "base_uri": "https://localhost:8080/"
        },
        "id": "6jFCIOXCvJKb",
        "outputId": "2fdf8ee8-7311-4186-9f71-415f512f688b"
      },
      "outputs": [
        {
          "output_type": "execute_result",
          "data": {
            "text/plain": [
              "1"
            ]
          },
          "metadata": {},
          "execution_count": 2
        }
      ],
      "source": [
        "import numpy as np\n",
        "\n",
        "arr = np.array([1,2,3,4,5])\n",
        "type(arr)\n",
        "\n",
        "# number of dimension\n",
        "arr.ndim"
      ]
    },
    {
      "cell_type": "code",
      "source": [
        "arr.size"
      ],
      "metadata": {
        "colab": {
          "base_uri": "https://localhost:8080/"
        },
        "id": "bTbpqQ3xwOtx",
        "outputId": "9063999c-f661-4def-bc77-8ea4f70f3e3a"
      },
      "execution_count": 3,
      "outputs": [
        {
          "output_type": "execute_result",
          "data": {
            "text/plain": [
              "5"
            ]
          },
          "metadata": {},
          "execution_count": 3
        }
      ]
    },
    {
      "cell_type": "code",
      "source": [
        "# numpy array is homogeneous\n",
        "\n",
        "arr.dtype"
      ],
      "metadata": {
        "colab": {
          "base_uri": "https://localhost:8080/"
        },
        "id": "7xSyGhnjwTQZ",
        "outputId": "6af4f5a7-ece1-4a6f-fe2d-d1f3aa4e948a"
      },
      "execution_count": 4,
      "outputs": [
        {
          "output_type": "execute_result",
          "data": {
            "text/plain": [
              "dtype('int64')"
            ]
          },
          "metadata": {},
          "execution_count": 4
        }
      ]
    },
    {
      "cell_type": "code",
      "source": [
        "arr = np.array([1,2,3,4,5], dtype='uint8')\n",
        "arr.dtype"
      ],
      "metadata": {
        "colab": {
          "base_uri": "https://localhost:8080/"
        },
        "id": "pYfljvfPwZgg",
        "outputId": "297127bb-a31f-4cf1-fd3e-677aa1eee0b1"
      },
      "execution_count": 5,
      "outputs": [
        {
          "output_type": "execute_result",
          "data": {
            "text/plain": [
              "dtype('uint8')"
            ]
          },
          "metadata": {},
          "execution_count": 5
        }
      ]
    },
    {
      "cell_type": "code",
      "source": [
        "arr = np.array([1,2,3,4,5.5])\n",
        "arr.dtype"
      ],
      "metadata": {
        "colab": {
          "base_uri": "https://localhost:8080/"
        },
        "id": "vzUTdQ5ewySz",
        "outputId": "04439bad-375e-4396-e399-3aeb791e8fb6"
      },
      "execution_count": 6,
      "outputs": [
        {
          "output_type": "execute_result",
          "data": {
            "text/plain": [
              "dtype('float64')"
            ]
          },
          "metadata": {},
          "execution_count": 6
        }
      ]
    },
    {
      "cell_type": "markdown",
      "source": [
        "Time execution"
      ],
      "metadata": {
        "id": "e7dVdulGxCwd"
      }
    },
    {
      "cell_type": "code",
      "source": [
        "l1 = [1]*1000\n",
        "\n",
        "arr = np.ones(1000,dtype='uint8')"
      ],
      "metadata": {
        "id": "iGlpXrV1xCH8"
      },
      "execution_count": 7,
      "outputs": []
    },
    {
      "cell_type": "code",
      "source": [
        "%timeit sum(l1)"
      ],
      "metadata": {
        "colab": {
          "base_uri": "https://localhost:8080/"
        },
        "id": "UZxqiw3kyw5B",
        "outputId": "0e819894-5ed4-44ba-bc2a-b7a0c63a7970"
      },
      "execution_count": 8,
      "outputs": [
        {
          "output_type": "stream",
          "name": "stdout",
          "text": [
            "The slowest run took 8.11 times longer than the fastest. This could mean that an intermediate result is being cached.\n",
            "100000 loops, best of 5: 6.63 µs per loop\n"
          ]
        }
      ]
    },
    {
      "cell_type": "code",
      "source": [
        "%timeit arr.sum()"
      ],
      "metadata": {
        "colab": {
          "base_uri": "https://localhost:8080/"
        },
        "id": "ZFWPb_x6y05x",
        "outputId": "0c7b3088-4330-4318-e7e9-f2d8b4f2f730"
      },
      "execution_count": 9,
      "outputs": [
        {
          "output_type": "stream",
          "name": "stdout",
          "text": [
            "The slowest run took 1691.47 times longer than the fastest. This could mean that an intermediate result is being cached.\n",
            "100000 loops, best of 5: 2.72 µs per loop\n"
          ]
        }
      ]
    },
    {
      "cell_type": "code",
      "source": [
        "# List keeps a new copy\n",
        "\n",
        "l = [1,2,3,4]\n",
        "l2 = l[1:3]\n",
        "print(l)\n",
        "print(l2)\n",
        "l2[0] = 1000\n",
        "print(l)\n",
        "print(l2)"
      ],
      "metadata": {
        "colab": {
          "base_uri": "https://localhost:8080/"
        },
        "id": "7mSl8Y925TWo",
        "outputId": "2d85b37c-8a62-40ad-e1dc-9b23111fe3ef"
      },
      "execution_count": 10,
      "outputs": [
        {
          "output_type": "stream",
          "name": "stdout",
          "text": [
            "[1, 2, 3, 4]\n",
            "[2, 3]\n",
            "[1, 2, 3, 4]\n",
            "[1000, 3]\n"
          ]
        }
      ]
    },
    {
      "cell_type": "code",
      "source": [
        "# Numpy array keeps same copy and changes made in old version\n",
        "\n",
        "arr = np.array([1,2,3,4])\n",
        "arr2 = arr[1:3]\n",
        "print(arr)\n",
        "print(arr2)\n",
        "arr2[0] = 1000\n",
        "print(arr)\n",
        "print(arr2)"
      ],
      "metadata": {
        "colab": {
          "base_uri": "https://localhost:8080/"
        },
        "id": "5bi3JLpD5owg",
        "outputId": "292aa533-16fe-47c6-9574-a08a548095e3"
      },
      "execution_count": 11,
      "outputs": [
        {
          "output_type": "stream",
          "name": "stdout",
          "text": [
            "[1 2 3 4]\n",
            "[2 3]\n",
            "[   1 1000    3    4]\n",
            "[1000    3]\n"
          ]
        }
      ]
    },
    {
      "cell_type": "code",
      "source": [
        "# Using .copy() to create separate copy\n",
        "\n",
        "arr = np.array([1,2,3,4])\n",
        "arr2 = arr[1:3].copy()\n",
        "print(arr)\n",
        "print(arr2)\n",
        "arr2[0] = 1000\n",
        "print(arr)\n",
        "print(arr2)"
      ],
      "metadata": {
        "colab": {
          "base_uri": "https://localhost:8080/"
        },
        "id": "1D_jVi7i5sh5",
        "outputId": "63993bd8-60e5-4554-f95c-134bdd0fc456"
      },
      "execution_count": 12,
      "outputs": [
        {
          "output_type": "stream",
          "name": "stdout",
          "text": [
            "[1 2 3 4]\n",
            "[2 3]\n",
            "[1 2 3 4]\n",
            "[1000    3]\n"
          ]
        }
      ]
    },
    {
      "cell_type": "code",
      "source": [
        "arr = np.array([\n",
        "                [1,2,3],\n",
        "                [4,5,6],\n",
        "                [7,8,9],\n",
        "                [10,11,12]\n",
        "])"
      ],
      "metadata": {
        "id": "Hse0VLlw5vab"
      },
      "execution_count": 13,
      "outputs": []
    },
    {
      "cell_type": "code",
      "source": [
        "arr.ndim"
      ],
      "metadata": {
        "colab": {
          "base_uri": "https://localhost:8080/"
        },
        "id": "aUt6OE077MK6",
        "outputId": "3ddbad58-8082-4f91-9dc0-537e849ef0eb"
      },
      "execution_count": 14,
      "outputs": [
        {
          "output_type": "execute_result",
          "data": {
            "text/plain": [
              "2"
            ]
          },
          "metadata": {},
          "execution_count": 14
        }
      ]
    },
    {
      "cell_type": "code",
      "source": [
        "arr.shape"
      ],
      "metadata": {
        "colab": {
          "base_uri": "https://localhost:8080/"
        },
        "id": "8HmPzPz17k40",
        "outputId": "287e3336-e85d-49b0-ebae-7b57495be405"
      },
      "execution_count": 15,
      "outputs": [
        {
          "output_type": "execute_result",
          "data": {
            "text/plain": [
              "(4, 3)"
            ]
          },
          "metadata": {},
          "execution_count": 15
        }
      ]
    },
    {
      "cell_type": "code",
      "source": [
        "arr[::-1,::-1]"
      ],
      "metadata": {
        "colab": {
          "base_uri": "https://localhost:8080/"
        },
        "id": "i9SHDjTV7mTq",
        "outputId": "dd62b34e-a025-4fe5-9c14-5a398a3b7349"
      },
      "execution_count": 16,
      "outputs": [
        {
          "output_type": "execute_result",
          "data": {
            "text/plain": [
              "array([[12, 11, 10],\n",
              "       [ 9,  8,  7],\n",
              "       [ 6,  5,  4],\n",
              "       [ 3,  2,  1]])"
            ]
          },
          "metadata": {},
          "execution_count": 16
        }
      ]
    },
    {
      "cell_type": "code",
      "source": [
        "arr[1:3,2:]"
      ],
      "metadata": {
        "colab": {
          "base_uri": "https://localhost:8080/"
        },
        "id": "Z2gSQhbG8GDB",
        "outputId": "0667118c-fd8d-462f-b39c-34b8eda26134"
      },
      "execution_count": 17,
      "outputs": [
        {
          "output_type": "execute_result",
          "data": {
            "text/plain": [
              "array([[6],\n",
              "       [9]])"
            ]
          },
          "metadata": {},
          "execution_count": 17
        }
      ]
    },
    {
      "cell_type": "code",
      "source": [
        "arr = np.arange(2,9,2)\n",
        "print(arr)"
      ],
      "metadata": {
        "colab": {
          "base_uri": "https://localhost:8080/"
        },
        "id": "8ELz46i38Vzo",
        "outputId": "b54fa26b-eefb-45a4-91f8-217efd093dfb"
      },
      "execution_count": 18,
      "outputs": [
        {
          "output_type": "stream",
          "name": "stdout",
          "text": [
            "[2 4 6 8]\n"
          ]
        }
      ]
    },
    {
      "cell_type": "code",
      "source": [
        "np.random.permutation(arr)"
      ],
      "metadata": {
        "colab": {
          "base_uri": "https://localhost:8080/"
        },
        "id": "Z2BKjact8moB",
        "outputId": "dffd7b34-9aa6-4ce9-f2c1-ae66632254de"
      },
      "execution_count": 19,
      "outputs": [
        {
          "output_type": "execute_result",
          "data": {
            "text/plain": [
              "array([8, 2, 6, 4])"
            ]
          },
          "metadata": {},
          "execution_count": 19
        }
      ]
    },
    {
      "cell_type": "code",
      "source": [
        "np.random.randint(1,5)"
      ],
      "metadata": {
        "colab": {
          "base_uri": "https://localhost:8080/"
        },
        "id": "JlBAsaHu8n4Z",
        "outputId": "893611ca-5837-46d2-a018-32b178fc3eb6"
      },
      "execution_count": 20,
      "outputs": [
        {
          "output_type": "execute_result",
          "data": {
            "text/plain": [
              "4"
            ]
          },
          "metadata": {},
          "execution_count": 20
        }
      ]
    },
    {
      "cell_type": "code",
      "source": [
        "np.random.rand(4,2)"
      ],
      "metadata": {
        "colab": {
          "base_uri": "https://localhost:8080/"
        },
        "id": "g4vSwyNt8szq",
        "outputId": "b7408fa3-d072-4cc9-cf61-78a75782c69a"
      },
      "execution_count": 21,
      "outputs": [
        {
          "output_type": "execute_result",
          "data": {
            "text/plain": [
              "array([[0.50081438, 0.59875048],\n",
              "       [0.85171447, 0.37042798],\n",
              "       [0.91740595, 0.5778075 ],\n",
              "       [0.0777041 , 0.5613326 ]])"
            ]
          },
          "metadata": {},
          "execution_count": 21
        }
      ]
    },
    {
      "cell_type": "code",
      "source": [
        "# mean = 0\n",
        "# std = 1\n",
        "# randn means normal distribution\n",
        "\n",
        "arr = np.random.randn(10000)"
      ],
      "metadata": {
        "id": "TeDz1DTC9WgB"
      },
      "execution_count": 22,
      "outputs": []
    },
    {
      "cell_type": "code",
      "source": [
        "arr"
      ],
      "metadata": {
        "colab": {
          "base_uri": "https://localhost:8080/"
        },
        "id": "ZaWcwiB_-TMo",
        "outputId": "29eade4d-d158-4c1d-b256-c619c4a982e9"
      },
      "execution_count": 23,
      "outputs": [
        {
          "output_type": "execute_result",
          "data": {
            "text/plain": [
              "array([-2.33207107, -0.90109457,  0.01406576, ...,  0.70362901,\n",
              "        0.48530075,  0.05045764])"
            ]
          },
          "metadata": {},
          "execution_count": 23
        }
      ]
    },
    {
      "cell_type": "code",
      "source": [
        "import matplotlib.pyplot as plt\n",
        "\n",
        "plt.hist(arr,bins = 100)\n",
        "plt.show()"
      ],
      "metadata": {
        "colab": {
          "base_uri": "https://localhost:8080/",
          "height": 265
        },
        "id": "zPZpUYa7-UYN",
        "outputId": "5ba5aff6-bcc6-4fb4-e869-5ab4fe9b4917"
      },
      "execution_count": 24,
      "outputs": [
        {
          "output_type": "display_data",
          "data": {
            "image/png": "[encoded data removed]",
            "text/plain": [
              "<Figure size 432x288 with 1 Axes>"
            ]
          },
          "metadata": {
            "needs_background": "light"
          }
        }
      ]
    },
    {
      "cell_type": "code",
      "source": [
        "# from start to end generate 28 numbers\n",
        "\n",
        "arr = np.linspace(1,10,28)\n",
        "print(arr)"
      ],
      "metadata": {
        "colab": {
          "base_uri": "https://localhost:8080/"
        },
        "id": "n1MQ0hrW-eoa",
        "outputId": "14870c93-9950-4238-e88d-e03f9c7b9890"
      },
      "execution_count": 25,
      "outputs": [
        {
          "output_type": "stream",
          "name": "stdout",
          "text": [
            "[ 1.          1.33333333  1.66666667  2.          2.33333333  2.66666667\n",
            "  3.          3.33333333  3.66666667  4.          4.33333333  4.66666667\n",
            "  5.          5.33333333  5.66666667  6.          6.33333333  6.66666667\n",
            "  7.          7.33333333  7.66666667  8.          8.33333333  8.66666667\n",
            "  9.          9.33333333  9.66666667 10.        ]\n"
          ]
        }
      ]
    },
    {
      "cell_type": "code",
      "source": [
        "# where in numpy\n",
        "\n",
        "arr = np.arange(10)\n",
        "np.where((arr < 5, arr, 10*arr))"
      ],
      "metadata": {
        "id": "xz_RuqEG-jOe",
        "colab": {
          "base_uri": "https://localhost:8080/"
        },
        "outputId": "f6625f0a-f1c2-4dd1-e9fb-daaa35c35bfa"
      },
      "execution_count": 26,
      "outputs": [
        {
          "output_type": "execute_result",
          "data": {
            "text/plain": [
              "(array([0, 0, 0, 0, 0, 1, 1, 1, 1, 1, 1, 1, 1, 1, 2, 2, 2, 2, 2, 2, 2, 2,\n",
              "        2]),\n",
              " array([0, 1, 2, 3, 4, 1, 2, 3, 4, 5, 6, 7, 8, 9, 1, 2, 3, 4, 5, 6, 7, 8,\n",
              "        9]))"
            ]
          },
          "metadata": {},
          "execution_count": 26
        }
      ]
    },
    {
      "cell_type": "code",
      "source": [
        "arr.shape"
      ],
      "metadata": {
        "colab": {
          "base_uri": "https://localhost:8080/"
        },
        "id": "x96fhtvBQNxF",
        "outputId": "2cfbccc9-883d-40c5-cad1-42ef95a2f778"
      },
      "execution_count": 27,
      "outputs": [
        {
          "output_type": "execute_result",
          "data": {
            "text/plain": [
              "(10,)"
            ]
          },
          "metadata": {},
          "execution_count": 27
        }
      ]
    },
    {
      "cell_type": "code",
      "source": [
        "arr.reshape(2,5)"
      ],
      "metadata": {
        "colab": {
          "base_uri": "https://localhost:8080/"
        },
        "id": "RJze_0-vQPtj",
        "outputId": "634fe052-64ca-43ea-a242-110303394b75"
      },
      "execution_count": 28,
      "outputs": [
        {
          "output_type": "execute_result",
          "data": {
            "text/plain": [
              "array([[0, 1, 2, 3, 4],\n",
              "       [5, 6, 7, 8, 9]])"
            ]
          },
          "metadata": {},
          "execution_count": 28
        }
      ]
    },
    {
      "cell_type": "markdown",
      "source": [
        "# Operators"
      ],
      "metadata": {
        "id": "3b984UKBQnAu"
      }
    },
    {
      "cell_type": "code",
      "source": [
        "a = np.random.permutation(np.arange(5))\n",
        "b = np.random.permutation(np.arange(5))"
      ],
      "metadata": {
        "id": "BGwDzhW5Ql4I"
      },
      "execution_count": 29,
      "outputs": []
    },
    {
      "cell_type": "code",
      "source": [
        "print(a,b)"
      ],
      "metadata": {
        "colab": {
          "base_uri": "https://localhost:8080/"
        },
        "id": "vj9DnVN6RGRT",
        "outputId": "25ef4694-24ab-4f62-f2f1-14176e878747"
      },
      "execution_count": 30,
      "outputs": [
        {
          "output_type": "stream",
          "name": "stdout",
          "text": [
            "[4 1 0 2 3] [1 0 4 2 3]\n"
          ]
        }
      ]
    },
    {
      "cell_type": "code",
      "source": [
        "print(a+b)\n",
        "print(a-b)\n",
        "print(a*b)"
      ],
      "metadata": {
        "colab": {
          "base_uri": "https://localhost:8080/"
        },
        "id": "Im9Ew52aRIA2",
        "outputId": "5ff73064-f14a-44b2-a1ac-e780a0171b28"
      },
      "execution_count": 31,
      "outputs": [
        {
          "output_type": "stream",
          "name": "stdout",
          "text": [
            "[5 1 4 4 6]\n",
            "[ 3  1 -4  0  0]\n",
            "[4 0 0 4 9]\n"
          ]
        }
      ]
    },
    {
      "cell_type": "code",
      "source": [
        "print(a<b)\n",
        "print(a>b)\n",
        "print(a<=b)\n",
        "print(a>=b)"
      ],
      "metadata": {
        "colab": {
          "base_uri": "https://localhost:8080/"
        },
        "id": "r_cJn76kRSJc",
        "outputId": "099c72b0-4671-42a0-9c74-43c5e34b2672"
      },
      "execution_count": 32,
      "outputs": [
        {
          "output_type": "stream",
          "name": "stdout",
          "text": [
            "[False False  True False False]\n",
            "[ True  True False False False]\n",
            "[False False  True  True  True]\n",
            "[ True  True False  True  True]\n"
          ]
        }
      ]
    },
    {
      "cell_type": "code",
      "source": [
        "a = np.array([1,2,3,4])\n",
        "b = np.array([5,6,7,8])\n",
        "\n",
        "print(a)\n",
        "print(b)"
      ],
      "metadata": {
        "colab": {
          "base_uri": "https://localhost:8080/"
        },
        "id": "1tkhC-zga9if",
        "outputId": "2055ced2-b233-4cfe-cbb2-f8f123713973"
      },
      "execution_count": 33,
      "outputs": [
        {
          "output_type": "stream",
          "name": "stdout",
          "text": [
            "[1 2 3 4]\n",
            "[5 6 7 8]\n"
          ]
        }
      ]
    },
    {
      "cell_type": "code",
      "source": [
        "# concatenation\n",
        "\n",
        "np.concatenate([a,b,a,b])"
      ],
      "metadata": {
        "colab": {
          "base_uri": "https://localhost:8080/"
        },
        "id": "GqrXrfumnTgT",
        "outputId": "f01271f6-2700-40fa-f685-b2f28213d8c4"
      },
      "execution_count": 34,
      "outputs": [
        {
          "output_type": "execute_result",
          "data": {
            "text/plain": [
              "array([1, 2, 3, 4, 5, 6, 7, 8, 1, 2, 3, 4, 5, 6, 7, 8])"
            ]
          },
          "metadata": {},
          "execution_count": 34
        }
      ]
    },
    {
      "cell_type": "code",
      "source": [
        "# stacking horizontal, vertically and diagonally\n",
        "\n",
        "print(np.hstack([a,b]))\n",
        "print(np.vstack([a,b]))\n",
        "print(np.dstack([a,b]))"
      ],
      "metadata": {
        "colab": {
          "base_uri": "https://localhost:8080/"
        },
        "id": "H5QMpTIfnczO",
        "outputId": "b0cf9992-350e-431a-bde5-d88b55e1d17e"
      },
      "execution_count": 35,
      "outputs": [
        {
          "output_type": "stream",
          "name": "stdout",
          "text": [
            "[1 2 3 4 5 6 7 8]\n",
            "[[1 2 3 4]\n",
            " [5 6 7 8]]\n",
            "[[[1 5]\n",
            "  [2 6]\n",
            "  [3 7]\n",
            "  [4 8]]]\n"
          ]
        }
      ]
    },
    {
      "cell_type": "code",
      "source": [
        "l = [1] * 33\n",
        "t = tuple(l)\n",
        "\n",
        "# np.ones(t).ndim\n",
        "\n",
        "# ValueError: maximum supported dimension for an ndarray is 32, found 33"
      ],
      "metadata": {
        "id": "EG-b7U8soPf5"
      },
      "execution_count": 38,
      "outputs": []
    },
    {
      "cell_type": "markdown",
      "source": [
        "# Broadcasting"
      ],
      "metadata": {
        "id": "eE1YXNbXh_Yo"
      }
    },
    {
      "cell_type": "code",
      "source": [
        "print(type(a))\n",
        "\n",
        "print(a+2)\n",
        "print(a-2)\n",
        "print(a*2)\n",
        "print(a/2)"
      ],
      "metadata": {
        "colab": {
          "base_uri": "https://localhost:8080/"
        },
        "id": "kULSIFDihEHP",
        "outputId": "c12f6fa4-c823-49fd-8b9b-c5f0cb60d417"
      },
      "execution_count": 41,
      "outputs": [
        {
          "output_type": "stream",
          "name": "stdout",
          "text": [
            "<class 'numpy.ndarray'>\n",
            "[3 4 5 6]\n",
            "[-1  0  1  2]\n",
            "[2 4 6 8]\n",
            "[0.5 1.  1.5 2. ]\n"
          ]
        }
      ]
    },
    {
      "cell_type": "code",
      "source": [
        "print(a>2)\n",
        "print(a<2)\n",
        "print(a>=2)\n",
        "print(a<=2)"
      ],
      "metadata": {
        "colab": {
          "base_uri": "https://localhost:8080/"
        },
        "id": "Kzx3X_SZiM0K",
        "outputId": "88baee69-67f9-49b1-d87a-f3eb55352e5d"
      },
      "execution_count": 43,
      "outputs": [
        {
          "output_type": "stream",
          "name": "stdout",
          "text": [
            "[False False  True  True]\n",
            "[ True False False False]\n",
            "[False  True  True  True]\n",
            "[ True  True False False]\n"
          ]
        }
      ]
    },
    {
      "cell_type": "markdown",
      "source": [
        "# Fancy Indexing"
      ],
      "metadata": {
        "id": "aRVQqF_PiUhW"
      }
    },
    {
      "cell_type": "code",
      "source": [
        "arr = np.random.permutation(np.arange(5))\n",
        "arr"
      ],
      "metadata": {
        "colab": {
          "base_uri": "https://localhost:8080/"
        },
        "id": "bBHKKjUsiTtz",
        "outputId": "6c11775c-beb5-404c-9218-53dd56e4ee94"
      },
      "execution_count": 47,
      "outputs": [
        {
          "output_type": "execute_result",
          "data": {
            "text/plain": [
              "array([3, 4, 0, 1, 2])"
            ]
          },
          "metadata": {},
          "execution_count": 47
        }
      ]
    },
    {
      "cell_type": "code",
      "source": [
        "b = arr[[0,2,4]]\n",
        "print(type(b))\n",
        "print(b)"
      ],
      "metadata": {
        "colab": {
          "base_uri": "https://localhost:8080/"
        },
        "id": "13bKZxdVihz7",
        "outputId": "b319cf31-5166-4aad-e82f-9f0bf95964f7"
      },
      "execution_count": 49,
      "outputs": [
        {
          "output_type": "stream",
          "name": "stdout",
          "text": [
            "<class 'numpy.ndarray'>\n",
            "[3 0 2]\n"
          ]
        }
      ]
    },
    {
      "cell_type": "code",
      "source": [
        "print(arr[[0,3,1,4]])\n",
        "print(arr[[True,False,True,False,True]])\n",
        "print(arr[arr<4])\n",
        "print(arr[arr>=3])\n",
        "print(arr[(arr>=2) & (arr<=3)])"
      ],
      "metadata": {
        "colab": {
          "base_uri": "https://localhost:8080/"
        },
        "id": "2zeexOfViuiw",
        "outputId": "0e1e0836-06cd-4031-86c0-ec34fd867eb2"
      },
      "execution_count": 61,
      "outputs": [
        {
          "output_type": "stream",
          "name": "stdout",
          "text": [
            "[3 1 4 2]\n",
            "[3 0 2]\n",
            "[3 0 1 2]\n",
            "[3 4]\n",
            "[3 2]\n"
          ]
        }
      ]
    },
    {
      "cell_type": "markdown",
      "source": [
        "# Maths Function"
      ],
      "metadata": {
        "id": "_lTbhedPj_Hy"
      }
    },
    {
      "cell_type": "code",
      "source": [
        "arr = np.random.permutation(np.arange(10))\n",
        "arr"
      ],
      "metadata": {
        "colab": {
          "base_uri": "https://localhost:8080/"
        },
        "id": "bagGv9VZj7ed",
        "outputId": "dc75363c-86ea-4aa3-f8b8-ac194d557b9d"
      },
      "execution_count": 64,
      "outputs": [
        {
          "output_type": "execute_result",
          "data": {
            "text/plain": [
              "array([3, 7, 9, 4, 0, 8, 1, 5, 6, 2])"
            ]
          },
          "metadata": {},
          "execution_count": 64
        }
      ]
    },
    {
      "cell_type": "code",
      "source": [
        "print(arr.min())\n",
        "print(arr.max())\n",
        "print(arr.std())\n",
        "print(arr.mean())\n",
        "print(arr.sum())"
      ],
      "metadata": {
        "colab": {
          "base_uri": "https://localhost:8080/"
        },
        "id": "lF8ulVnvkPQe",
        "outputId": "d1cbe14a-d45e-40c7-be0c-65090faff765"
      },
      "execution_count": 68,
      "outputs": [
        {
          "output_type": "stream",
          "name": "stdout",
          "text": [
            "0\n",
            "9\n",
            "2.8722813232690143\n",
            "4.5\n",
            "45\n"
          ]
        }
      ]
    },
    {
      "cell_type": "code",
      "source": [
        "# arg min/max is used for printing index of min/max value\n",
        "\n",
        "print(arr.argmin())\n",
        "print(arr.argmax())"
      ],
      "metadata": {
        "colab": {
          "base_uri": "https://localhost:8080/"
        },
        "id": "MjMGYlOPkkfe",
        "outputId": "6d2a945c-7523-41a1-9edb-f4bc58645856"
      },
      "execution_count": 70,
      "outputs": [
        {
          "output_type": "stream",
          "name": "stdout",
          "text": [
            "4\n",
            "2\n"
          ]
        }
      ]
    },
    {
      "cell_type": "code",
      "source": [
        "# Reshape\n",
        "\n",
        "arr = np.random.permutation(np.arange(12)).reshape(3,4)\n",
        "arr"
      ],
      "metadata": {
        "colab": {
          "base_uri": "https://localhost:8080/"
        },
        "id": "bTMyUzMIkwnf",
        "outputId": "360560ea-9cdd-471f-f0de-aa2a086eb4e8"
      },
      "execution_count": 73,
      "outputs": [
        {
          "output_type": "execute_result",
          "data": {
            "text/plain": [
              "array([[ 9,  4,  8,  7],\n",
              "       [10,  1,  6,  0],\n",
              "       [ 3,  2,  5, 11]])"
            ]
          },
          "metadata": {},
          "execution_count": 73
        }
      ]
    },
    {
      "cell_type": "code",
      "source": [
        "print(arr.sum(axis = 1)) # axis = 1 for column wise\n",
        "print(arr.sum(axis = 0))"
      ],
      "metadata": {
        "colab": {
          "base_uri": "https://localhost:8080/"
        },
        "id": "okL0PlU3lGwA",
        "outputId": "c4bee330-c38e-4fbf-e3c0-6b2737cf2cdd"
      },
      "execution_count": 78,
      "outputs": [
        {
          "output_type": "stream",
          "name": "stdout",
          "text": [
            "[28 17 21]\n",
            "[22  7 19 18]\n"
          ]
        }
      ]
    },
    {
      "cell_type": "code",
      "source": [
        "print(arr.argmin(axis=1))\n",
        "print(arr.argmin(axis=0))"
      ],
      "metadata": {
        "colab": {
          "base_uri": "https://localhost:8080/"
        },
        "id": "J7e7xmPGlk74",
        "outputId": "ef62dfb6-8a78-443c-f7d5-ce5f59df7276"
      },
      "execution_count": 82,
      "outputs": [
        {
          "output_type": "stream",
          "name": "stdout",
          "text": [
            "[1 3 1]\n",
            "[2 1 2 1]\n"
          ]
        }
      ]
    },
    {
      "cell_type": "code",
      "source": [
        "np.cos(arr)"
      ],
      "metadata": {
        "colab": {
          "base_uri": "https://localhost:8080/"
        },
        "id": "BgSQKF5hl6qf",
        "outputId": "69afc049-ea35-4e78-ebf6-b9e650463ff0"
      },
      "execution_count": 84,
      "outputs": [
        {
          "output_type": "execute_result",
          "data": {
            "text/plain": [
              "array([[-0.91113026, -0.65364362, -0.14550003,  0.75390225],\n",
              "       [-0.83907153,  0.54030231,  0.96017029,  1.        ],\n",
              "       [-0.9899925 , -0.41614684,  0.28366219,  0.0044257 ]])"
            ]
          },
          "metadata": {},
          "execution_count": 84
        }
      ]
    },
    {
      "cell_type": "code",
      "source": [
        ""
      ],
      "metadata": {
        "id": "grkMSo4cm0Uo"
      },
      "execution_count": null,
      "outputs": []
    }
  ]
}