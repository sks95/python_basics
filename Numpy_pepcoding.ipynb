{
  "nbformat": 4,
  "nbformat_minor": 0,
  "metadata": {
    "colab": {
      "name": "Numpy_pepcoding.ipynb",
      "provenance": [],
      "collapsed_sections": [],
      "authorship_tag": "ABX9TyPfmvicMH/R4ndBVyrMMPT2",
      "include_colab_link": true
    },
    "kernelspec": {
      "name": "python3",
      "display_name": "Python 3"
    },
    "language_info": {
      "name": "python"
    }
  },
  "cells": [
    {
      "cell_type": "markdown",
      "metadata": {
        "id": "view-in-github",
        "colab_type": "text"
      },
      "source": [
        "<a href=\"https://colab.research.google.com/github/sks95/python_basics/blob/main/Numpy_pepcoding.ipynb\" target=\"_parent\"><img src=\"https://colab.research.google.com/assets/colab-badge.svg\" alt=\"Open In Colab\"/></a>"
      ]
    },
    {
      "cell_type": "code",
      "execution_count": 2,
      "metadata": {
        "colab": {
          "base_uri": "https://localhost:8080/"
        },
        "id": "6jFCIOXCvJKb",
        "outputId": "cd0bcd22-ba34-4e9d-c703-72d650c692cb"
      },
      "outputs": [
        {
          "output_type": "execute_result",
          "data": {
            "text/plain": [
              "1"
            ]
          },
          "metadata": {},
          "execution_count": 2
        }
      ],
      "source": [
        "import numpy as np\n",
        "\n",
        "arr = np.array([1,2,3,4,5])\n",
        "type(arr)\n",
        "\n",
        "# number of dimension\n",
        "arr.ndim"
      ]
    },
    {
      "cell_type": "code",
      "source": [
        "arr.size"
      ],
      "metadata": {
        "colab": {
          "base_uri": "https://localhost:8080/"
        },
        "id": "bTbpqQ3xwOtx",
        "outputId": "0952777c-b135-4a8a-f55f-da75d8800bd4"
      },
      "execution_count": 3,
      "outputs": [
        {
          "output_type": "execute_result",
          "data": {
            "text/plain": [
              "5"
            ]
          },
          "metadata": {},
          "execution_count": 3
        }
      ]
    },
    {
      "cell_type": "code",
      "source": [
        "# numpy array is homogeneous\n",
        "\n",
        "arr.dtype"
      ],
      "metadata": {
        "colab": {
          "base_uri": "https://localhost:8080/"
        },
        "id": "7xSyGhnjwTQZ",
        "outputId": "30f1e690-abaa-4078-8255-9576780b895c"
      },
      "execution_count": 4,
      "outputs": [
        {
          "output_type": "execute_result",
          "data": {
            "text/plain": [
              "dtype('int64')"
            ]
          },
          "metadata": {},
          "execution_count": 4
        }
      ]
    },
    {
      "cell_type": "code",
      "source": [
        "arr = np.array([1,2,3,4,5], dtype='uint8')\n",
        "arr.dtype"
      ],
      "metadata": {
        "colab": {
          "base_uri": "https://localhost:8080/"
        },
        "id": "pYfljvfPwZgg",
        "outputId": "e4e5e675-05af-49ce-a28b-fafe3cd12065"
      },
      "execution_count": 5,
      "outputs": [
        {
          "output_type": "execute_result",
          "data": {
            "text/plain": [
              "dtype('uint8')"
            ]
          },
          "metadata": {},
          "execution_count": 5
        }
      ]
    },
    {
      "cell_type": "code",
      "source": [
        "arr = np.array([1,2,3,4,5.5])\n",
        "arr.dtype"
      ],
      "metadata": {
        "colab": {
          "base_uri": "https://localhost:8080/"
        },
        "id": "vzUTdQ5ewySz",
        "outputId": "d5373cc7-cd71-49bb-851e-488895bd4186"
      },
      "execution_count": 6,
      "outputs": [
        {
          "output_type": "execute_result",
          "data": {
            "text/plain": [
              "dtype('float64')"
            ]
          },
          "metadata": {},
          "execution_count": 6
        }
      ]
    },
    {
      "cell_type": "markdown",
      "source": [
        "Time execution"
      ],
      "metadata": {
        "id": "e7dVdulGxCwd"
      }
    },
    {
      "cell_type": "code",
      "source": [
        "l1 = [1]*1000\n",
        "\n",
        "arr = np.ones(1000,dtype='uint8')"
      ],
      "metadata": {
        "id": "iGlpXrV1xCH8"
      },
      "execution_count": 7,
      "outputs": []
    },
    {
      "cell_type": "code",
      "source": [
        "%timeit sum(l1)"
      ],
      "metadata": {
        "colab": {
          "base_uri": "https://localhost:8080/"
        },
        "id": "UZxqiw3kyw5B",
        "outputId": "1f14a732-31d1-4ff7-bbc6-4d1f188d0906"
      },
      "execution_count": 8,
      "outputs": [
        {
          "output_type": "stream",
          "name": "stdout",
          "text": [
            "100000 loops, best of 5: 6.8 µs per loop\n"
          ]
        }
      ]
    },
    {
      "cell_type": "code",
      "source": [
        "%timeit arr.sum()"
      ],
      "metadata": {
        "colab": {
          "base_uri": "https://localhost:8080/"
        },
        "id": "ZFWPb_x6y05x",
        "outputId": "b727f7c2-6e4d-424a-82d4-a81231c03c79"
      },
      "execution_count": 9,
      "outputs": [
        {
          "output_type": "stream",
          "name": "stdout",
          "text": [
            "The slowest run took 1500.13 times longer than the fastest. This could mean that an intermediate result is being cached.\n",
            "100000 loops, best of 5: 5.83 µs per loop\n"
          ]
        }
      ]
    },
    {
      "cell_type": "code",
      "source": [
        "# List keeps a new copy\n",
        "\n",
        "l = [1,2,3,4]\n",
        "l2 = l[1:3]\n",
        "print(l)\n",
        "print(l2)\n",
        "l2[0] = 1000\n",
        "print(l)\n",
        "print(l2)"
      ],
      "metadata": {
        "colab": {
          "base_uri": "https://localhost:8080/"
        },
        "id": "7mSl8Y925TWo",
        "outputId": "dcf97982-d00d-4cfc-fe1c-8448b5aac806"
      },
      "execution_count": 10,
      "outputs": [
        {
          "output_type": "stream",
          "name": "stdout",
          "text": [
            "[1, 2, 3, 4]\n",
            "[2, 3]\n",
            "[1, 2, 3, 4]\n",
            "[1000, 3]\n"
          ]
        }
      ]
    },
    {
      "cell_type": "code",
      "source": [
        "# Numpy array keeps same copy and changes made in old version\n",
        "\n",
        "arr = np.array([1,2,3,4])\n",
        "arr2 = arr[1:3]\n",
        "print(arr)\n",
        "print(arr2)\n",
        "arr2[0] = 1000\n",
        "print(arr)\n",
        "print(arr2)"
      ],
      "metadata": {
        "colab": {
          "base_uri": "https://localhost:8080/"
        },
        "id": "5bi3JLpD5owg",
        "outputId": "6dfa7a19-1fe4-41f5-b2ec-16e8e3feb065"
      },
      "execution_count": 11,
      "outputs": [
        {
          "output_type": "stream",
          "name": "stdout",
          "text": [
            "[1 2 3 4]\n",
            "[2 3]\n",
            "[   1 1000    3    4]\n",
            "[1000    3]\n"
          ]
        }
      ]
    },
    {
      "cell_type": "code",
      "source": [
        "# Using .copy() to create separate copy\n",
        "\n",
        "arr = np.array([1,2,3,4])\n",
        "arr2 = arr[1:3].copy()\n",
        "print(arr)\n",
        "print(arr2)\n",
        "arr2[0] = 1000\n",
        "print(arr)\n",
        "print(arr2)"
      ],
      "metadata": {
        "colab": {
          "base_uri": "https://localhost:8080/"
        },
        "id": "1D_jVi7i5sh5",
        "outputId": "911ef14e-d6cc-433d-dc10-63f067f7c97b"
      },
      "execution_count": 12,
      "outputs": [
        {
          "output_type": "stream",
          "name": "stdout",
          "text": [
            "[1 2 3 4]\n",
            "[2 3]\n",
            "[1 2 3 4]\n",
            "[1000    3]\n"
          ]
        }
      ]
    },
    {
      "cell_type": "code",
      "source": [
        "arr = np.array([\n",
        "                [1,2,3],\n",
        "                [4,5,6],\n",
        "                [7,8,9],\n",
        "                [10,11,12]\n",
        "])"
      ],
      "metadata": {
        "id": "Hse0VLlw5vab"
      },
      "execution_count": 13,
      "outputs": []
    },
    {
      "cell_type": "code",
      "source": [
        "arr.ndim"
      ],
      "metadata": {
        "colab": {
          "base_uri": "https://localhost:8080/"
        },
        "id": "aUt6OE077MK6",
        "outputId": "3e5ad2c2-6e43-4d6a-cee7-a0f019a6702f"
      },
      "execution_count": 14,
      "outputs": [
        {
          "output_type": "execute_result",
          "data": {
            "text/plain": [
              "2"
            ]
          },
          "metadata": {},
          "execution_count": 14
        }
      ]
    },
    {
      "cell_type": "code",
      "source": [
        "arr.shape"
      ],
      "metadata": {
        "colab": {
          "base_uri": "https://localhost:8080/"
        },
        "id": "8HmPzPz17k40",
        "outputId": "18681499-ccb9-4cb2-eb1d-36ff7c9880b8"
      },
      "execution_count": 15,
      "outputs": [
        {
          "output_type": "execute_result",
          "data": {
            "text/plain": [
              "(4, 3)"
            ]
          },
          "metadata": {},
          "execution_count": 15
        }
      ]
    },
    {
      "cell_type": "code",
      "source": [
        "arr[::-1,::-1]"
      ],
      "metadata": {
        "colab": {
          "base_uri": "https://localhost:8080/"
        },
        "id": "i9SHDjTV7mTq",
        "outputId": "bcd88147-aa6e-47b3-a246-d2d7cbaee2cb"
      },
      "execution_count": 16,
      "outputs": [
        {
          "output_type": "execute_result",
          "data": {
            "text/plain": [
              "array([[12, 11, 10],\n",
              "       [ 9,  8,  7],\n",
              "       [ 6,  5,  4],\n",
              "       [ 3,  2,  1]])"
            ]
          },
          "metadata": {},
          "execution_count": 16
        }
      ]
    },
    {
      "cell_type": "code",
      "source": [
        "arr[1:3,2:]"
      ],
      "metadata": {
        "colab": {
          "base_uri": "https://localhost:8080/"
        },
        "id": "Z2gSQhbG8GDB",
        "outputId": "efca2a7e-9ed7-4741-bb09-77bfeea8eb77"
      },
      "execution_count": 17,
      "outputs": [
        {
          "output_type": "execute_result",
          "data": {
            "text/plain": [
              "array([[6],\n",
              "       [9]])"
            ]
          },
          "metadata": {},
          "execution_count": 17
        }
      ]
    },
    {
      "cell_type": "code",
      "source": [
        "arr = np.arange(2,9,2)\n",
        "print(arr)"
      ],
      "metadata": {
        "colab": {
          "base_uri": "https://localhost:8080/"
        },
        "id": "8ELz46i38Vzo",
        "outputId": "971e2c64-eded-4971-9588-2fa98900326a"
      },
      "execution_count": 18,
      "outputs": [
        {
          "output_type": "stream",
          "name": "stdout",
          "text": [
            "[2 4 6 8]\n"
          ]
        }
      ]
    },
    {
      "cell_type": "code",
      "source": [
        "np.random.permutation(arr)"
      ],
      "metadata": {
        "colab": {
          "base_uri": "https://localhost:8080/"
        },
        "id": "Z2BKjact8moB",
        "outputId": "ad2010d5-550e-425a-a342-a959652f2aea"
      },
      "execution_count": 19,
      "outputs": [
        {
          "output_type": "execute_result",
          "data": {
            "text/plain": [
              "array([4, 8, 6, 2])"
            ]
          },
          "metadata": {},
          "execution_count": 19
        }
      ]
    },
    {
      "cell_type": "code",
      "source": [
        "np.random.randint(1,5)"
      ],
      "metadata": {
        "colab": {
          "base_uri": "https://localhost:8080/"
        },
        "id": "JlBAsaHu8n4Z",
        "outputId": "85fab92e-9a24-48ec-ade3-7dbf131a0c08"
      },
      "execution_count": 20,
      "outputs": [
        {
          "output_type": "execute_result",
          "data": {
            "text/plain": [
              "2"
            ]
          },
          "metadata": {},
          "execution_count": 20
        }
      ]
    },
    {
      "cell_type": "code",
      "source": [
        "np.random.rand(4,2)"
      ],
      "metadata": {
        "colab": {
          "base_uri": "https://localhost:8080/"
        },
        "id": "g4vSwyNt8szq",
        "outputId": "24da51b4-e622-4433-fba8-5a7b1a34e7e4"
      },
      "execution_count": 21,
      "outputs": [
        {
          "output_type": "execute_result",
          "data": {
            "text/plain": [
              "array([[0.67916584, 0.74911448],\n",
              "       [0.3035316 , 0.9158362 ],\n",
              "       [0.38665449, 0.4902203 ],\n",
              "       [0.70752078, 0.21592003]])"
            ]
          },
          "metadata": {},
          "execution_count": 21
        }
      ]
    },
    {
      "cell_type": "code",
      "source": [
        "# mean = 0\n",
        "# std = 1\n",
        "# randn means normal distribution\n",
        "\n",
        "arr = np.random.randn(10000)"
      ],
      "metadata": {
        "id": "TeDz1DTC9WgB"
      },
      "execution_count": 22,
      "outputs": []
    },
    {
      "cell_type": "code",
      "source": [
        "arr"
      ],
      "metadata": {
        "colab": {
          "base_uri": "https://localhost:8080/"
        },
        "id": "ZaWcwiB_-TMo",
        "outputId": "6b827373-9ec3-41e8-e80a-9bfd8f94e27e"
      },
      "execution_count": 23,
      "outputs": [
        {
          "output_type": "execute_result",
          "data": {
            "text/plain": [
              "array([-0.33684419,  0.42943054, -0.18355636, ...,  2.39878382,\n",
              "        1.53706793, -0.86597334])"
            ]
          },
          "metadata": {},
          "execution_count": 23
        }
      ]
    },
    {
      "cell_type": "code",
      "source": [
        "import matplotlib.pyplot as plt\n",
        "\n",
        "plt.hist(arr,bins = 100)\n",
        "plt.show()"
      ],
      "metadata": {
        "colab": {
          "base_uri": "https://localhost:8080/",
          "height": 265
        },
        "id": "zPZpUYa7-UYN",
        "outputId": "69f3a50b-a7f0-4aca-f76b-3bc2112ac72c"
      },
      "execution_count": 24,
      "outputs": [
        {
          "output_type": "display_data",
          "data": {
            "image/png": "[encoded data removed]",
            "text/plain": [
              "<Figure size 432x288 with 1 Axes>"
            ]
          },
          "metadata": {
            "needs_background": "light"
          }
        }
      ]
    },
    {
      "cell_type": "code",
      "source": [
        "# from start to end generate 28 numbers\n",
        "\n",
        "arr = np.linspace(1,10,28)\n",
        "print(arr)"
      ],
      "metadata": {
        "colab": {
          "base_uri": "https://localhost:8080/"
        },
        "id": "n1MQ0hrW-eoa",
        "outputId": "38977a9d-2851-4de8-b47d-51bcb4adfa68"
      },
      "execution_count": 25,
      "outputs": [
        {
          "output_type": "stream",
          "name": "stdout",
          "text": [
            "[ 1.          1.33333333  1.66666667  2.          2.33333333  2.66666667\n",
            "  3.          3.33333333  3.66666667  4.          4.33333333  4.66666667\n",
            "  5.          5.33333333  5.66666667  6.          6.33333333  6.66666667\n",
            "  7.          7.33333333  7.66666667  8.          8.33333333  8.66666667\n",
            "  9.          9.33333333  9.66666667 10.        ]\n"
          ]
        }
      ]
    },
    {
      "cell_type": "code",
      "source": [
        "# where in numpy\n",
        "\n",
        "arr = np.arange(10)\n",
        "np.where((arr < 5, arr, 10*arr))"
      ],
      "metadata": {
        "id": "xz_RuqEG-jOe",
        "colab": {
          "base_uri": "https://localhost:8080/"
        },
        "outputId": "65da2b07-c889-40d0-c93a-9146e4b5cc7b"
      },
      "execution_count": 26,
      "outputs": [
        {
          "output_type": "execute_result",
          "data": {
            "text/plain": [
              "(array([0, 0, 0, 0, 0, 1, 1, 1, 1, 1, 1, 1, 1, 1, 2, 2, 2, 2, 2, 2, 2, 2,\n",
              "        2]),\n",
              " array([0, 1, 2, 3, 4, 1, 2, 3, 4, 5, 6, 7, 8, 9, 1, 2, 3, 4, 5, 6, 7, 8,\n",
              "        9]))"
            ]
          },
          "metadata": {},
          "execution_count": 26
        }
      ]
    },
    {
      "cell_type": "code",
      "source": [
        "arr.shape"
      ],
      "metadata": {
        "colab": {
          "base_uri": "https://localhost:8080/"
        },
        "id": "x96fhtvBQNxF",
        "outputId": "cfb1b46e-eb47-4988-f9be-d5e5e7dd352c"
      },
      "execution_count": 27,
      "outputs": [
        {
          "output_type": "execute_result",
          "data": {
            "text/plain": [
              "(10,)"
            ]
          },
          "metadata": {},
          "execution_count": 27
        }
      ]
    },
    {
      "cell_type": "code",
      "source": [
        "arr.reshape(2,5)"
      ],
      "metadata": {
        "colab": {
          "base_uri": "https://localhost:8080/"
        },
        "id": "RJze_0-vQPtj",
        "outputId": "bce3d0bd-ce97-4e95-996e-e6416ffd82c2"
      },
      "execution_count": 28,
      "outputs": [
        {
          "output_type": "execute_result",
          "data": {
            "text/plain": [
              "array([[0, 1, 2, 3, 4],\n",
              "       [5, 6, 7, 8, 9]])"
            ]
          },
          "metadata": {},
          "execution_count": 28
        }
      ]
    },
    {
      "cell_type": "markdown",
      "source": [
        "# Operators"
      ],
      "metadata": {
        "id": "3b984UKBQnAu"
      }
    },
    {
      "cell_type": "code",
      "source": [
        "a = np.random.permutation(np.arange(5))\n",
        "b = np.random.permutation(np.arange(5))"
      ],
      "metadata": {
        "id": "BGwDzhW5Ql4I"
      },
      "execution_count": 29,
      "outputs": []
    },
    {
      "cell_type": "code",
      "source": [
        "print(a,b)"
      ],
      "metadata": {
        "colab": {
          "base_uri": "https://localhost:8080/"
        },
        "id": "vj9DnVN6RGRT",
        "outputId": "8f7f5edc-f62e-4dcd-c450-5db6d0d31a0b"
      },
      "execution_count": 30,
      "outputs": [
        {
          "output_type": "stream",
          "name": "stdout",
          "text": [
            "[4 0 2 1 3] [0 4 1 3 2]\n"
          ]
        }
      ]
    },
    {
      "cell_type": "code",
      "source": [
        "print(a+b)\n",
        "print(a-b)\n",
        "print(a*b)"
      ],
      "metadata": {
        "colab": {
          "base_uri": "https://localhost:8080/"
        },
        "id": "Im9Ew52aRIA2",
        "outputId": "ae022ee5-1523-4bff-f43a-a140b8cb3827"
      },
      "execution_count": 31,
      "outputs": [
        {
          "output_type": "stream",
          "name": "stdout",
          "text": [
            "[4 4 3 4 5]\n",
            "[ 4 -4  1 -2  1]\n",
            "[0 0 2 3 6]\n"
          ]
        }
      ]
    },
    {
      "cell_type": "code",
      "source": [
        "print(a<b)\n",
        "print(a>b)\n",
        "print(a<=b)\n",
        "print(a>=b)"
      ],
      "metadata": {
        "colab": {
          "base_uri": "https://localhost:8080/"
        },
        "id": "r_cJn76kRSJc",
        "outputId": "d53f4e6d-e1ee-4009-cc8a-26861a8408dd"
      },
      "execution_count": 32,
      "outputs": [
        {
          "output_type": "stream",
          "name": "stdout",
          "text": [
            "[False  True False  True False]\n",
            "[ True False  True False  True]\n",
            "[False  True False  True False]\n",
            "[ True False  True False  True]\n"
          ]
        }
      ]
    },
    {
      "cell_type": "markdown",
      "source": [
        "# Concatenate"
      ],
      "metadata": {
        "id": "EyQWwx4-n8ff"
      }
    },
    {
      "cell_type": "code",
      "source": [
        "a = np.array([1,2,3,4])\n",
        "b = np.array([5,6,7,8])\n",
        "\n",
        "print(a)\n",
        "print(b)"
      ],
      "metadata": {
        "colab": {
          "base_uri": "https://localhost:8080/"
        },
        "id": "1tkhC-zga9if",
        "outputId": "4c558e8f-76e2-4d9d-db10-3dddab8149ac"
      },
      "execution_count": 33,
      "outputs": [
        {
          "output_type": "stream",
          "name": "stdout",
          "text": [
            "[1 2 3 4]\n",
            "[5 6 7 8]\n"
          ]
        }
      ]
    },
    {
      "cell_type": "code",
      "source": [
        "# concatenation\n",
        "\n",
        "np.concatenate([a,b,a,b])"
      ],
      "metadata": {
        "colab": {
          "base_uri": "https://localhost:8080/"
        },
        "id": "GqrXrfumnTgT",
        "outputId": "4f9ab76f-c4eb-43ec-dfd5-a0055314cd58"
      },
      "execution_count": 34,
      "outputs": [
        {
          "output_type": "execute_result",
          "data": {
            "text/plain": [
              "array([1, 2, 3, 4, 5, 6, 7, 8, 1, 2, 3, 4, 5, 6, 7, 8])"
            ]
          },
          "metadata": {},
          "execution_count": 34
        }
      ]
    },
    {
      "cell_type": "code",
      "source": [
        "# Concatenating horizontal, vertically and diagonally\n",
        "\n",
        "print(np.hstack([a,b]))\n",
        "print(np.vstack([a,b]))\n",
        "print(np.dstack([a,b]))"
      ],
      "metadata": {
        "colab": {
          "base_uri": "https://localhost:8080/"
        },
        "id": "H5QMpTIfnczO",
        "outputId": "f2666d60-420d-4657-968c-7a430c50ca38"
      },
      "execution_count": 35,
      "outputs": [
        {
          "output_type": "stream",
          "name": "stdout",
          "text": [
            "[1 2 3 4 5 6 7 8]\n",
            "[[1 2 3 4]\n",
            " [5 6 7 8]]\n",
            "[[[1 5]\n",
            "  [2 6]\n",
            "  [3 7]\n",
            "  [4 8]]]\n"
          ]
        }
      ]
    },
    {
      "cell_type": "code",
      "source": [
        "l = [1] * 33\n",
        "t = tuple(l)\n",
        "\n",
        "# np.ones(t).ndim\n",
        "\n",
        "# ValueError: maximum supported dimension for an ndarray is 32, found 33"
      ],
      "metadata": {
        "id": "EG-b7U8soPf5"
      },
      "execution_count": 36,
      "outputs": []
    },
    {
      "cell_type": "markdown",
      "source": [
        "# Broadcasting"
      ],
      "metadata": {
        "id": "eE1YXNbXh_Yo"
      }
    },
    {
      "cell_type": "code",
      "source": [
        "print(type(a))\n",
        "\n",
        "print(a+2)\n",
        "print(a-2)\n",
        "print(a*2)\n",
        "print(a/2)"
      ],
      "metadata": {
        "colab": {
          "base_uri": "https://localhost:8080/"
        },
        "id": "kULSIFDihEHP",
        "outputId": "631114ba-93bd-4acc-e674-1664a9204fe2"
      },
      "execution_count": 37,
      "outputs": [
        {
          "output_type": "stream",
          "name": "stdout",
          "text": [
            "<class 'numpy.ndarray'>\n",
            "[3 4 5 6]\n",
            "[-1  0  1  2]\n",
            "[2 4 6 8]\n",
            "[0.5 1.  1.5 2. ]\n"
          ]
        }
      ]
    },
    {
      "cell_type": "code",
      "source": [
        "print(a>2)\n",
        "print(a<2)\n",
        "print(a>=2)\n",
        "print(a<=2)"
      ],
      "metadata": {
        "colab": {
          "base_uri": "https://localhost:8080/"
        },
        "id": "Kzx3X_SZiM0K",
        "outputId": "f238d40c-2c92-436e-b64b-d665c2b89a19"
      },
      "execution_count": 38,
      "outputs": [
        {
          "output_type": "stream",
          "name": "stdout",
          "text": [
            "[False False  True  True]\n",
            "[ True False False False]\n",
            "[False  True  True  True]\n",
            "[ True  True False False]\n"
          ]
        }
      ]
    },
    {
      "cell_type": "markdown",
      "source": [
        "# Fancy Indexing"
      ],
      "metadata": {
        "id": "aRVQqF_PiUhW"
      }
    },
    {
      "cell_type": "code",
      "source": [
        "arr = np.random.permutation(np.arange(5))\n",
        "arr"
      ],
      "metadata": {
        "colab": {
          "base_uri": "https://localhost:8080/"
        },
        "id": "bBHKKjUsiTtz",
        "outputId": "3835eb07-ed0d-4450-d0d5-1acd37eab189"
      },
      "execution_count": 39,
      "outputs": [
        {
          "output_type": "execute_result",
          "data": {
            "text/plain": [
              "array([1, 4, 0, 3, 2])"
            ]
          },
          "metadata": {},
          "execution_count": 39
        }
      ]
    },
    {
      "cell_type": "code",
      "source": [
        "b = arr[[0,2,4]]\n",
        "print(type(b))\n",
        "print(b)"
      ],
      "metadata": {
        "colab": {
          "base_uri": "https://localhost:8080/"
        },
        "id": "13bKZxdVihz7",
        "outputId": "049e699c-5b04-4f78-90f6-75f566c0cd01"
      },
      "execution_count": 40,
      "outputs": [
        {
          "output_type": "stream",
          "name": "stdout",
          "text": [
            "<class 'numpy.ndarray'>\n",
            "[1 0 2]\n"
          ]
        }
      ]
    },
    {
      "cell_type": "code",
      "source": [
        "print(arr[[0,3,1,4]])\n",
        "print(arr[[True,False,True,False,True]])\n",
        "print(arr[arr<4])\n",
        "print(arr[arr>=3])\n",
        "print(arr[(arr>=2) & (arr<=3)])"
      ],
      "metadata": {
        "colab": {
          "base_uri": "https://localhost:8080/"
        },
        "id": "2zeexOfViuiw",
        "outputId": "b6b6237a-4b21-45e7-eaa1-188ae9da07f8"
      },
      "execution_count": 41,
      "outputs": [
        {
          "output_type": "stream",
          "name": "stdout",
          "text": [
            "[1 3 4 2]\n",
            "[1 0 2]\n",
            "[1 0 3 2]\n",
            "[4 3]\n",
            "[3 2]\n"
          ]
        }
      ]
    },
    {
      "cell_type": "markdown",
      "source": [
        "# Maths Function"
      ],
      "metadata": {
        "id": "_lTbhedPj_Hy"
      }
    },
    {
      "cell_type": "code",
      "source": [
        "arr = np.random.permutation(np.arange(10))\n",
        "arr"
      ],
      "metadata": {
        "colab": {
          "base_uri": "https://localhost:8080/"
        },
        "id": "bagGv9VZj7ed",
        "outputId": "b01df9c9-4b25-469d-9f85-408b68625a1d"
      },
      "execution_count": 42,
      "outputs": [
        {
          "output_type": "execute_result",
          "data": {
            "text/plain": [
              "array([6, 3, 2, 7, 0, 8, 9, 1, 4, 5])"
            ]
          },
          "metadata": {},
          "execution_count": 42
        }
      ]
    },
    {
      "cell_type": "code",
      "source": [
        "print(arr.min())\n",
        "print(arr.max())\n",
        "print(arr.std())\n",
        "print(arr.mean())\n",
        "print(arr.sum())"
      ],
      "metadata": {
        "colab": {
          "base_uri": "https://localhost:8080/"
        },
        "id": "lF8ulVnvkPQe",
        "outputId": "77003452-75e2-482c-f39b-7841e0e09141"
      },
      "execution_count": 43,
      "outputs": [
        {
          "output_type": "stream",
          "name": "stdout",
          "text": [
            "0\n",
            "9\n",
            "2.8722813232690143\n",
            "4.5\n",
            "45\n"
          ]
        }
      ]
    },
    {
      "cell_type": "code",
      "source": [
        "# arg min/max is used for printing index of min/max value\n",
        "\n",
        "print(arr.argmin())\n",
        "print(arr.argmax())"
      ],
      "metadata": {
        "colab": {
          "base_uri": "https://localhost:8080/"
        },
        "id": "MjMGYlOPkkfe",
        "outputId": "71f05d27-8de3-414e-b663-e4bb65daa55d"
      },
      "execution_count": 44,
      "outputs": [
        {
          "output_type": "stream",
          "name": "stdout",
          "text": [
            "4\n",
            "6\n"
          ]
        }
      ]
    },
    {
      "cell_type": "code",
      "source": [
        "# Reshape\n",
        "\n",
        "arr = np.random.permutation(np.arange(12)).reshape(3,4)\n",
        "arr"
      ],
      "metadata": {
        "colab": {
          "base_uri": "https://localhost:8080/"
        },
        "id": "bTMyUzMIkwnf",
        "outputId": "12ae0b28-7065-42b6-b49f-71c4b55da852"
      },
      "execution_count": 45,
      "outputs": [
        {
          "output_type": "execute_result",
          "data": {
            "text/plain": [
              "array([[ 4,  1, 11,  7],\n",
              "       [ 6,  5,  2,  0],\n",
              "       [ 9,  8,  3, 10]])"
            ]
          },
          "metadata": {},
          "execution_count": 45
        }
      ]
    },
    {
      "cell_type": "code",
      "source": [
        "print(arr.sum(axis = 1)) # axis = 1 for column wise\n",
        "print(arr.sum(axis = 0))"
      ],
      "metadata": {
        "colab": {
          "base_uri": "https://localhost:8080/"
        },
        "id": "okL0PlU3lGwA",
        "outputId": "798d58e8-8317-40bf-ab69-d0ef002bec67"
      },
      "execution_count": 46,
      "outputs": [
        {
          "output_type": "stream",
          "name": "stdout",
          "text": [
            "[23 13 30]\n",
            "[19 14 16 17]\n"
          ]
        }
      ]
    },
    {
      "cell_type": "code",
      "source": [
        "print(arr.argmin(axis=1))\n",
        "print(arr.argmin(axis=0))"
      ],
      "metadata": {
        "colab": {
          "base_uri": "https://localhost:8080/"
        },
        "id": "J7e7xmPGlk74",
        "outputId": "95b305c5-2994-4038-bc8d-c0ded765c8da"
      },
      "execution_count": 47,
      "outputs": [
        {
          "output_type": "stream",
          "name": "stdout",
          "text": [
            "[1 3 2]\n",
            "[0 0 1 1]\n"
          ]
        }
      ]
    },
    {
      "cell_type": "markdown",
      "source": [
        "# Plotting example"
      ],
      "metadata": {
        "id": "wxMV4JMeoK2J"
      }
    },
    {
      "cell_type": "code",
      "source": [
        "np.cos(arr)"
      ],
      "metadata": {
        "colab": {
          "base_uri": "https://localhost:8080/"
        },
        "id": "BgSQKF5hl6qf",
        "outputId": "c0fa5663-2c26-4fc8-a095-892284b717be"
      },
      "execution_count": 48,
      "outputs": [
        {
          "output_type": "execute_result",
          "data": {
            "text/plain": [
              "array([[-0.65364362,  0.54030231,  0.0044257 ,  0.75390225],\n",
              "       [ 0.96017029,  0.28366219, -0.41614684,  1.        ],\n",
              "       [-0.91113026, -0.14550003, -0.9899925 , -0.83907153]])"
            ]
          },
          "metadata": {},
          "execution_count": 48
        }
      ]
    },
    {
      "cell_type": "code",
      "source": [
        "x = np.arange(360)\n",
        "x"
      ],
      "metadata": {
        "colab": {
          "base_uri": "https://localhost:8080/"
        },
        "id": "grkMSo4cm0Uo",
        "outputId": "d88331f6-c915-4c08-8789-f8fa68adce85"
      },
      "execution_count": 49,
      "outputs": [
        {
          "output_type": "execute_result",
          "data": {
            "text/plain": [
              "array([  0,   1,   2,   3,   4,   5,   6,   7,   8,   9,  10,  11,  12,\n",
              "        13,  14,  15,  16,  17,  18,  19,  20,  21,  22,  23,  24,  25,\n",
              "        26,  27,  28,  29,  30,  31,  32,  33,  34,  35,  36,  37,  38,\n",
              "        39,  40,  41,  42,  43,  44,  45,  46,  47,  48,  49,  50,  51,\n",
              "        52,  53,  54,  55,  56,  57,  58,  59,  60,  61,  62,  63,  64,\n",
              "        65,  66,  67,  68,  69,  70,  71,  72,  73,  74,  75,  76,  77,\n",
              "        78,  79,  80,  81,  82,  83,  84,  85,  86,  87,  88,  89,  90,\n",
              "        91,  92,  93,  94,  95,  96,  97,  98,  99, 100, 101, 102, 103,\n",
              "       104, 105, 106, 107, 108, 109, 110, 111, 112, 113, 114, 115, 116,\n",
              "       117, 118, 119, 120, 121, 122, 123, 124, 125, 126, 127, 128, 129,\n",
              "       130, 131, 132, 133, 134, 135, 136, 137, 138, 139, 140, 141, 142,\n",
              "       143, 144, 145, 146, 147, 148, 149, 150, 151, 152, 153, 154, 155,\n",
              "       156, 157, 158, 159, 160, 161, 162, 163, 164, 165, 166, 167, 168,\n",
              "       169, 170, 171, 172, 173, 174, 175, 176, 177, 178, 179, 180, 181,\n",
              "       182, 183, 184, 185, 186, 187, 188, 189, 190, 191, 192, 193, 194,\n",
              "       195, 196, 197, 198, 199, 200, 201, 202, 203, 204, 205, 206, 207,\n",
              "       208, 209, 210, 211, 212, 213, 214, 215, 216, 217, 218, 219, 220,\n",
              "       221, 222, 223, 224, 225, 226, 227, 228, 229, 230, 231, 232, 233,\n",
              "       234, 235, 236, 237, 238, 239, 240, 241, 242, 243, 244, 245, 246,\n",
              "       247, 248, 249, 250, 251, 252, 253, 254, 255, 256, 257, 258, 259,\n",
              "       260, 261, 262, 263, 264, 265, 266, 267, 268, 269, 270, 271, 272,\n",
              "       273, 274, 275, 276, 277, 278, 279, 280, 281, 282, 283, 284, 285,\n",
              "       286, 287, 288, 289, 290, 291, 292, 293, 294, 295, 296, 297, 298,\n",
              "       299, 300, 301, 302, 303, 304, 305, 306, 307, 308, 309, 310, 311,\n",
              "       312, 313, 314, 315, 316, 317, 318, 319, 320, 321, 322, 323, 324,\n",
              "       325, 326, 327, 328, 329, 330, 331, 332, 333, 334, 335, 336, 337,\n",
              "       338, 339, 340, 341, 342, 343, 344, 345, 346, 347, 348, 349, 350,\n",
              "       351, 352, 353, 354, 355, 356, 357, 358, 359])"
            ]
          },
          "metadata": {},
          "execution_count": 49
        }
      ]
    },
    {
      "cell_type": "code",
      "source": [
        "import matplotlib.pyplot as plt\n",
        "plt.plot(x, np.sin(np.deg2rad(x)))"
      ],
      "metadata": {
        "colab": {
          "base_uri": "https://localhost:8080/",
          "height": 282
        },
        "id": "QnvlIvldnIUS",
        "outputId": "ff46d72a-b255-4924-ae9f-ff9f12d29739"
      },
      "execution_count": 50,
      "outputs": [
        {
          "output_type": "execute_result",
          "data": {
            "text/plain": [
              "[<matplotlib.lines.Line2D at 0x7f2a41c36490>]"
            ]
          },
          "metadata": {},
          "execution_count": 50
        },
        {
          "output_type": "display_data",
          "data": {
            "image/png": "[encoded data removed]",
            "text/plain": [
              "<Figure size 432x288 with 1 Axes>"
            ]
          },
          "metadata": {
            "needs_background": "light"
          }
        }
      ]
    },
    {
      "cell_type": "markdown",
      "source": [
        "# Hstack, Vstack & Dstack"
      ],
      "metadata": {
        "id": "UH9anhbhtfPi"
      }
    },
    {
      "cell_type": "code",
      "source": [
        "a = np.array([\n",
        "              [1,2,3],\n",
        "              [4,5,6]\n",
        "])\n",
        "b = np.array([\n",
        "              [7,8,9],\n",
        "              [10, 11, 12]\n",
        "])\n",
        "\n",
        "\n",
        "print(np.vstack([a,b]))\n",
        "\n",
        "# array([[ 1,  2,  3],\n",
        "#        [ 4,  5,  6],\n",
        "#        [ 7,  8,  9],\n",
        "#        [10, 11, 12]])\n",
        "\n",
        "print(np.hstack([a,b]))\n",
        "\n",
        "# array([[ 1,  2,  7,  8,  9],\n",
        "#        [ 4,  5, 10, 11, 12]])\n",
        "\n",
        "\n",
        "print(np.dstack([a,b]))\n",
        "\n",
        "# array([[[ 1,  7],\n",
        "#         [ 2,  8],\n",
        "#         [ 3,  9]],\n",
        "\n",
        "#        [[ 4, 10],\n",
        "#         [ 5, 11],\n",
        "#         [ 7, 12]]])"
      ],
      "metadata": {
        "colab": {
          "base_uri": "https://localhost:8080/"
        },
        "id": "f8D3JVrstI0b",
        "outputId": "35147c9a-0c46-4bf9-91d2-89d07f38e71d"
      },
      "execution_count": 52,
      "outputs": [
        {
          "output_type": "stream",
          "name": "stdout",
          "text": [
            "[[ 1  2  3]\n",
            " [ 4  5  6]\n",
            " [ 7  8  9]\n",
            " [10 11 12]]\n",
            "[[ 1  2  3  7  8  9]\n",
            " [ 4  5  6 10 11 12]]\n",
            "[[[ 1  7]\n",
            "  [ 2  8]\n",
            "  [ 3  9]]\n",
            "\n",
            " [[ 4 10]\n",
            "  [ 5 11]\n",
            "  [ 6 12]]]\n"
          ]
        }
      ]
    },
    {
      "cell_type": "markdown",
      "source": [
        "# Split"
      ],
      "metadata": {
        "id": "AwzS6SWAu2y6"
      }
    },
    {
      "cell_type": "code",
      "source": [
        "# Case 1:\n",
        "\n",
        "arr = np.array([5, 4, 7, 9, 0, 2, 1, 8, 6, 3])\n",
        "\n",
        "a, b = np.split(arr,2)\n",
        "\n",
        "print(a, b)"
      ],
      "metadata": {
        "colab": {
          "base_uri": "https://localhost:8080/"
        },
        "id": "liiVs3lDtmJM",
        "outputId": "aef8dfa0-ddcd-4071-d10d-0622c3f57ba5"
      },
      "execution_count": 57,
      "outputs": [
        {
          "output_type": "stream",
          "name": "stdout",
          "text": [
            "[5 4 7 9 0] [2 1 8 6 3]\n"
          ]
        }
      ]
    },
    {
      "cell_type": "markdown",
      "source": [
        "### Case 1: Another example\n",
        "\n",
        "arr = np.array([5, 4, 7, 9, 0, 2, 1, 8, 6, 3])\n",
        "\n",
        "a, b = np.split(arr,3)\n",
        "\n",
        "print(a, b)\n",
        "\n",
        "### output\n",
        "### ValueError: array split does not result in an equal division"
      ],
      "metadata": {
        "id": "-GkfrwDRvOJE"
      }
    },
    {
      "cell_type": "code",
      "source": [
        "# If the second argument is a list, then the entries of array indicate where the split will be.\n",
        "\n",
        "# e.g, np.split(arr,[3,5])\n",
        "\n",
        "# splits the array into three parts.\n",
        "# part 1 will be [:3]\n",
        "# part 2 will be [3:5]\n",
        "# part 3 will be [5:]\n",
        "\n",
        "\n",
        "arr = np.array([5, 4, 7, 9, 0, 2, 1, 8, 6, 3])\n",
        "\n",
        "a, b,c = np.split(arr,[3,5])\n",
        "\n",
        "print(a, b,c)"
      ],
      "metadata": {
        "colab": {
          "base_uri": "https://localhost:8080/"
        },
        "id": "yqy1PDkmvVYO",
        "outputId": "769f9ea6-524f-44ed-df44-17d8738eecc7"
      },
      "execution_count": 58,
      "outputs": [
        {
          "output_type": "stream",
          "name": "stdout",
          "text": [
            "[5 4 7] [9 0] [2 1 8 6 3]\n"
          ]
        }
      ]
    },
    {
      "cell_type": "code",
      "source": [
        "print(np.ones((2,3,4)))\n",
        "print(np.ones((2,3,4))[0, 1, 2])"
      ],
      "metadata": {
        "colab": {
          "base_uri": "https://localhost:8080/"
        },
        "id": "He8k2C_UwQK2",
        "outputId": "afeb43a5-4d85-4862-ce6b-8c351820d1d8"
      },
      "execution_count": 64,
      "outputs": [
        {
          "output_type": "stream",
          "name": "stdout",
          "text": [
            "[[[1. 1. 1. 1.]\n",
            "  [1. 1. 1. 1.]\n",
            "  [1. 1. 1. 1.]]\n",
            "\n",
            " [[1. 1. 1. 1.]\n",
            "  [1. 1. 1. 1.]\n",
            "  [1. 1. 1. 1.]]]\n",
            "1.0\n"
          ]
        }
      ]
    }
  ]
}