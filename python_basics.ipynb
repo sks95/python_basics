{
  "nbformat": 4,
  "nbformat_minor": 0,
  "metadata": {
    "colab": {
      "name": "python_basics.ipynb",
      "provenance": [],
      "collapsed_sections": [],
      "authorship_tag": "ABX9TyNqP0j205mfxws07TniEQZM",
      "include_colab_link": true
    },
    "kernelspec": {
      "name": "python3",
      "display_name": "Python 3"
    },
    "language_info": {
      "name": "python"
    }
  },
  "cells": [
    {
      "cell_type": "markdown",
      "metadata": {
        "id": "view-in-github",
        "colab_type": "text"
      },
      "source": [
        "<a href=\"https://colab.research.google.com/github/sks95/python_basics/blob/main/python_basics.ipynb\" target=\"_parent\"><img src=\"https://colab.research.google.com/assets/colab-badge.svg\" alt=\"Open In Colab\"/></a>"
      ]
    },
    {
      "cell_type": "code",
      "source": [
        "# Lists - dynamic sized arrays that can contain mutable elements\n",
        "\n",
        "# Different operations on list\n",
        "\n",
        "my_list = ['red','blue','green', 'pink'];\n",
        "\n",
        "print(len(my_list));\n",
        "my_list.insert(2, 'yellow');\n",
        "print(my_list);\n",
        "my_list.append('brown');\n",
        "print(my_list);\n",
        "my_list.extend(['crimson','beige', 'magenta']);\n",
        "print(my_list);\n",
        "print(my_list.index('crimson'));\n",
        "\n",
        "\n",
        "# Remove or Pop elements from list\n",
        "popped_elem = my_list.pop();\n",
        "print(popped_elem);\n",
        "my_list.remove('yellow');\n",
        "print(my_list);"
      ],
      "metadata": {
        "colab": {
          "base_uri": "https://localhost:8080/"
        },
        "id": "VymGhGEZABDJ",
        "outputId": "1c4eea0c-2d1c-43d4-82c1-473b94f75d51"
      },
      "execution_count": null,
      "outputs": [
        {
          "output_type": "stream",
          "name": "stdout",
          "text": [
            "4\n",
            "['red', 'blue', 'yellow', 'green', 'pink']\n",
            "['red', 'blue', 'yellow', 'green', 'pink', 'brown']\n",
            "['red', 'blue', 'yellow', 'green', 'pink', 'brown', 'crimson', 'beige', 'magenta']\n",
            "6\n",
            "magenta\n",
            "['red', 'blue', 'green', 'pink', 'brown', 'crimson', 'beige']\n"
          ]
        }
      ]
    },
    {
      "cell_type": "code",
      "source": [
        "# Handy operations on list \n",
        "\n",
        "num_list = [1,2,3,4,5,6];\n",
        "\n",
        "print(max(num_list));\n",
        "print(min(num_list));\n",
        "print(sum(num_list));\n",
        "num_list = num_list*2;\n",
        "num_list.insert(2, 3);\n",
        "print(num_list);\n",
        "print(num_list.count(3));\n"
      ],
      "metadata": {
        "colab": {
          "base_uri": "https://localhost:8080/"
        },
        "id": "ODFrEhmK0dj_",
        "outputId": "52fd642e-cfd6-47f8-b579-cb6e25bff529"
      },
      "execution_count": null,
      "outputs": [
        {
          "output_type": "stream",
          "name": "stdout",
          "text": [
            "6\n",
            "1\n",
            "21\n",
            "[1, 2, 3, 3, 4, 5, 6, 1, 2, 3, 4, 5, 6]\n",
            "3\n"
          ]
        }
      ]
    },
    {
      "cell_type": "code",
      "source": [
        "# Understanding indexing, slicing and selection of elements\n",
        "\n",
        "print(my_list);\n",
        "print(my_list[4]);\n",
        "print(my_list[-3]);\n",
        "print(my_list[0:5]);\n",
        "print(my_list[1:4]);\n",
        "print(my_list[2:]);\n",
        "print(my_list[:3]);\n",
        "print(my_list[:-3]);\n",
        "print(my_list[-3:]);"
      ],
      "metadata": {
        "colab": {
          "base_uri": "https://localhost:8080/"
        },
        "id": "IGZjWkcRM93o",
        "outputId": "8394a758-9d9d-45c0-8c49-c71355309f13"
      },
      "execution_count": null,
      "outputs": [
        {
          "output_type": "stream",
          "name": "stdout",
          "text": [
            "['red', 'blue', 'green', 'pink', 'brown', 'crimson', 'beige']\n",
            "brown\n",
            "brown\n",
            "['red', 'blue', 'green', 'pink', 'brown']\n",
            "['blue', 'green', 'pink']\n",
            "['green', 'pink', 'brown', 'crimson', 'beige']\n",
            "['red', 'blue', 'green']\n",
            "['red', 'blue', 'green', 'pink']\n",
            "['brown', 'crimson', 'beige']\n"
          ]
        }
      ]
    },
    {
      "cell_type": "code",
      "source": [
        "# Removing duplicates from a list\n",
        "\n",
        "print(my_list);\n",
        "new_list = []\n",
        "[new_list.append(x) for x in my_list if x not in new_list];\n",
        "print(new_list);"
      ],
      "metadata": {
        "colab": {
          "base_uri": "https://localhost:8080/"
        },
        "id": "1IYvYDjju92o",
        "outputId": "0c124304-489a-4aa6-ca39-c7f0f8b6cc96"
      },
      "execution_count": null,
      "outputs": [
        {
          "output_type": "stream",
          "name": "stdout",
          "text": [
            "['red', 'blue', 'green', 'pink', 'brown', 'crimson', 'beige']\n",
            "['red', 'blue', 'green', 'pink', 'brown', 'crimson', 'beige']\n"
          ]
        }
      ]
    },
    {
      "cell_type": "code",
      "source": [
        "# Sets - unordered collection data type \n",
        "# // iterable, mutable and has no duplicates values\n",
        "# // just like mathematical sets\n",
        "# // based on hash table data structure\n",
        "\n",
        "set_var = set()\n",
        "print(set_var);\n",
        "print(type(set_var));\n",
        "set_var = {'Avengers', 'Hitman', 'Ironman', 'Ironman'};\n",
        "print(set_var);\n",
        "set_var.add('Hulk')\n",
        "print(set_var);\n",
        "set_new = {'Avengers', 'Hitman', 'Ironman'};\n",
        "print(set_var.difference(set_new));\n",
        "print(set_var);\n",
        "set_var.difference_update(set_new);\n",
        "print(set_var); "
      ],
      "metadata": {
        "colab": {
          "base_uri": "https://localhost:8080/"
        },
        "id": "zh4D6Yiev_3B",
        "outputId": "1eae4ccd-5429-4615-c8ed-ff0eff6c5513"
      },
      "execution_count": null,
      "outputs": [
        {
          "output_type": "stream",
          "name": "stdout",
          "text": [
            "set()\n",
            "<class 'set'>\n",
            "{'Ironman', 'Avengers', 'Hitman'}\n",
            "{'Ironman', 'Avengers', 'Hulk', 'Hitman'}\n",
            "{'Hulk'}\n",
            "{'Ironman', 'Avengers', 'Hulk', 'Hitman'}\n",
            "{'Hulk'}\n"
          ]
        }
      ]
    },
    {
      "cell_type": "code",
      "source": [
        "# Dictionaries - is a collection which is unordered, changeable and indexed  \n",
        "# Key value Pair form of store\n",
        "\n",
        "cars = {\"car1\":'Audi', \"car2\":\"BMW\", \"car3\":\"Carrera\", \"car4\":\"Dodge\"};\n",
        "print(cars);\n",
        "print(type(cars));\n",
        "print(cars['car2']);\n",
        "cars['car1'] = 'Maruti'; # mutable\n",
        "print(cars);\n",
        "cars['cars5'] = 'Mustang'; # update\n",
        "print(cars);"
      ],
      "metadata": {
        "colab": {
          "base_uri": "https://localhost:8080/"
        },
        "id": "V7Jl2Psu3Fxd",
        "outputId": "d26fd26d-62fd-4ec9-e36a-2b5d82c82343"
      },
      "execution_count": null,
      "outputs": [
        {
          "output_type": "stream",
          "name": "stdout",
          "text": [
            "{'car1': 'Audi', 'car2': 'BMW', 'car3': 'Carrera', 'car4': 'Dodge'}\n",
            "<class 'dict'>\n",
            "BMW\n",
            "{'car1': 'Maruti', 'car2': 'BMW', 'car3': 'Carrera', 'car4': 'Dodge'}\n",
            "{'car1': 'Maruti', 'car2': 'BMW', 'car3': 'Carrera', 'car4': 'Dodge', 'cars5': 'Mustang'}\n"
          ]
        }
      ]
    },
    {
      "cell_type": "code",
      "source": [
        "# Looping through keys in dictionary\n",
        "for x in cars:\n",
        "  print(x);"
      ],
      "metadata": {
        "colab": {
          "base_uri": "https://localhost:8080/"
        },
        "id": "Qr8_XtBP3n_O",
        "outputId": "34b52da3-bc71-4dfd-9aac-376f33f30a2f"
      },
      "execution_count": null,
      "outputs": [
        {
          "output_type": "stream",
          "name": "stdout",
          "text": [
            "car1\n",
            "car2\n",
            "car3\n",
            "car4\n"
          ]
        }
      ]
    },
    {
      "cell_type": "code",
      "source": [
        "# Looping through values in dictionary\n",
        "for x in cars.values():\n",
        "  print(x);"
      ],
      "metadata": {
        "colab": {
          "base_uri": "https://localhost:8080/"
        },
        "id": "WeCes1oZ68gB",
        "outputId": "d9340245-5ad1-470b-e2f4-886b7e3680b2"
      },
      "execution_count": null,
      "outputs": [
        {
          "output_type": "stream",
          "name": "stdout",
          "text": [
            "Audi\n",
            "BMW\n",
            "Carrera\n",
            "Dodge\n"
          ]
        }
      ]
    },
    {
      "cell_type": "code",
      "source": [
        "# Looping through both key and values\n",
        "for x in cars.items():\n",
        "  print(x);"
      ],
      "metadata": {
        "colab": {
          "base_uri": "https://localhost:8080/"
        },
        "id": "TFvjiyav7HtE",
        "outputId": "a40c836c-8090-4892-ec65-36e6cc3c0e6a"
      },
      "execution_count": null,
      "outputs": [
        {
          "output_type": "stream",
          "name": "stdout",
          "text": [
            "('car1', 'Audi')\n",
            "('car2', 'BMW')\n",
            "('car3', 'Carrera')\n",
            "('car4', 'Dodge')\n"
          ]
        }
      ]
    },
    {
      "cell_type": "code",
      "source": [
        "# Nested Dictionaries\n",
        "\n",
        "car1_mode1 = {'BMW':1960};\n",
        "car2_mode2 = {'Audi':1970};\n",
        "car3_mode3 = {'Porsche':1980};\n",
        "car4_mode4 = {'Maruti':1950};\n",
        "car_type = {'car1':car1_mode1, 'car2':car2_mode2, 'car3':car3_mode3, 'car4':car4_mode4 };\n",
        "print(car_type);\n",
        "print(car_type['car3']);\n",
        "print(car_type['car3']['Porsche']);"
      ],
      "metadata": {
        "colab": {
          "base_uri": "https://localhost:8080/"
        },
        "id": "tz3Nv2o67KcQ",
        "outputId": "a592795e-2fc8-45ef-b3aa-603266fe32b2"
      },
      "execution_count": null,
      "outputs": [
        {
          "output_type": "stream",
          "name": "stdout",
          "text": [
            "{'car1': {'BMW': 1960}, 'car2': {'Audi': 1970}, 'car3': {'Porsche': 1980}, 'car4': {'Maruti': 1950}}\n",
            "{'Porsche': 1980}\n",
            "1980\n"
          ]
        }
      ]
    },
    {
      "cell_type": "code",
      "source": [
        "# Tuples - is a collection which is ordered and unchangeable(immutable)\n",
        "# imp : item assignment not allowed, though whole can be changed\n",
        "\n",
        "my_tuple = ('rohit','chaman', 'boman');\n",
        "print(type(my_tuple));\n",
        "# print(my_tuple);\n",
        "# my_tuple[0] = 'shivam'; # error tuple' object does not support item assignment\n",
        "\n",
        "my_tuple = ('hello', 'world','hello','hello');  # can be allowed\n",
        "print(my_tuple);\n",
        "print(my_tuple.count('hello'));\n",
        "print(my_tuple.index('world'));"
      ],
      "metadata": {
        "colab": {
          "base_uri": "https://localhost:8080/"
        },
        "id": "BUXYSjY-9fcK",
        "outputId": "99078879-b46d-419e-cafc-2d06d853b2ca"
      },
      "execution_count": null,
      "outputs": [
        {
          "output_type": "stream",
          "name": "stdout",
          "text": [
            "<class 'tuple'>\n",
            "('hello', 'world', 'hello', 'hello')\n",
            "3\n",
            "1\n"
          ]
        }
      ]
    }
  ]
}