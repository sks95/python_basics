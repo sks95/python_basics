{
  "nbformat": 4,
  "nbformat_minor": 0,
  "metadata": {
    "colab": {
      "name": "Lambda_function.ipynb",
      "provenance": [],
      "collapsed_sections": [],
      "authorship_tag": "ABX9TyNO5XfCVyNFa8gI46Iv+/6n",
      "include_colab_link": true
    },
    "kernelspec": {
      "name": "python3",
      "display_name": "Python 3"
    },
    "language_info": {
      "name": "python"
    }
  },
  "cells": [
    {
      "cell_type": "markdown",
      "metadata": {
        "id": "view-in-github",
        "colab_type": "text"
      },
      "source": [
        "<a href=\"https://colab.research.google.com/github/sks95/python_basics/blob/main/Lambda_function.ipynb\" target=\"_parent\"><img src=\"https://colab.research.google.com/assets/colab-badge.svg\" alt=\"Open In Colab\"/></a>"
      ]
    },
    {
      "cell_type": "code",
      "execution_count": 5,
      "metadata": {
        "colab": {
          "base_uri": "https://localhost:8080/"
        },
        "id": "lczT2UlAgauk",
        "outputId": "9160cab6-e44f-4e97-df0d-b058bd09c306"
      },
      "outputs": [
        {
          "output_type": "stream",
          "name": "stdout",
          "text": [
            "6000\n"
          ]
        }
      ],
      "source": [
        "# Lambda Function\n",
        "# : se pehle wali arguments \n",
        "# : ke aage uske operations\n",
        "\n",
        "x = lambda a, b, c : a * b * c\n",
        "\n",
        "result = x(10,20,30)\n",
        "print(result)"
      ]
    },
    {
      "cell_type": "code",
      "source": [
        "def f(a) :\n",
        "  return lambda n : n*a\n",
        "\n",
        "c = f(10)\n",
        "print(c)\n",
        "\n",
        "d = c(9)\n",
        "print(d)"
      ],
      "metadata": {
        "colab": {
          "base_uri": "https://localhost:8080/"
        },
        "id": "N1nH1uAGiLhF",
        "outputId": "8a16e635-add5-4993-81d2-8ca39904e3c3"
      },
      "execution_count": 6,
      "outputs": [
        {
          "output_type": "stream",
          "name": "stdout",
          "text": [
            "<function f.<locals>.<lambda> at 0x7f703dd38710>\n",
            "90\n"
          ]
        }
      ]
    },
    {
      "cell_type": "code",
      "source": [
        "# while loop\n",
        "\n",
        "i = 1\n",
        "while i <= 5:\n",
        "  print(\"hello ballu\");\n",
        "  i += 1;"
      ],
      "metadata": {
        "colab": {
          "base_uri": "https://localhost:8080/"
        },
        "id": "oDLOh4LJju_T",
        "outputId": "a5920b76-0c09-4617-cc5c-db35c5fe9979"
      },
      "execution_count": 9,
      "outputs": [
        {
          "output_type": "stream",
          "name": "stdout",
          "text": [
            "hello ballu\n",
            "hello ballu\n",
            "hello ballu\n",
            "hello ballu\n",
            "hello ballu\n"
          ]
        }
      ]
    },
    {
      "cell_type": "code",
      "source": [
        "# break\n",
        "\n",
        "j = 1\n",
        "while j <= 5:\n",
        "  if(j == 2):\n",
        "    break\n",
        "  print(\"hello ballu\");\n",
        "  j += 1;"
      ],
      "metadata": {
        "colab": {
          "base_uri": "https://localhost:8080/"
        },
        "id": "8ddePmermLX4",
        "outputId": "ff0631ce-1db3-4e80-ab8c-4df83ec51b2a"
      },
      "execution_count": 11,
      "outputs": [
        {
          "output_type": "stream",
          "name": "stdout",
          "text": [
            "hello ballu\n"
          ]
        }
      ]
    },
    {
      "cell_type": "code",
      "source": [
        "# continue\n",
        "\n",
        "p = 1\n",
        "while p <= 5:\n",
        "  if p == 3:\n",
        "    p += 1\n",
        "    continue\n",
        "  print(\"jethiyaa\");\n",
        "  p += 1"
      ],
      "metadata": {
        "colab": {
          "base_uri": "https://localhost:8080/"
        },
        "id": "K_MgmLJnmcav",
        "outputId": "0155014a-e8d8-4240-ee8e-3c83fa947c48"
      },
      "execution_count": 14,
      "outputs": [
        {
          "output_type": "stream",
          "name": "stdout",
          "text": [
            "jethiyaa\n",
            "jethiyaa\n",
            "jethiyaa\n",
            "jethiyaa\n"
          ]
        }
      ]
    },
    {
      "cell_type": "code",
      "source": [
        "# for loop\n",
        "\n",
        "for i in range(5):\n",
        "  print(i)"
      ],
      "metadata": {
        "colab": {
          "base_uri": "https://localhost:8080/"
        },
        "id": "0WA8bZKzoHdr",
        "outputId": "d0b6843e-fd41-47c4-cafd-97ac07e99f58"
      },
      "execution_count": 15,
      "outputs": [
        {
          "output_type": "stream",
          "name": "stdout",
          "text": [
            "0\n",
            "1\n",
            "2\n",
            "3\n",
            "4\n"
          ]
        }
      ]
    }
  ]
}