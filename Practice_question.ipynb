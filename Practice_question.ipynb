{
  "nbformat": 4,
  "nbformat_minor": 0,
  "metadata": {
    "colab": {
      "name": "Practice_question.ipynb",
      "provenance": [],
      "collapsed_sections": [],
      "authorship_tag": "ABX9TyO/exPdx2p7gjmN4b1WM0gS",
      "include_colab_link": true
    },
    "kernelspec": {
      "name": "python3",
      "display_name": "Python 3"
    },
    "language_info": {
      "name": "python"
    }
  },
  "cells": [
    {
      "cell_type": "markdown",
      "metadata": {
        "id": "view-in-github",
        "colab_type": "text"
      },
      "source": [
        "<a href=\"https://colab.research.google.com/github/sks95/python_basics/blob/main/Practice_question.ipynb\" target=\"_parent\"><img src=\"https://colab.research.google.com/assets/colab-badge.svg\" alt=\"Open In Colab\"/></a>"
      ]
    },
    {
      "cell_type": "markdown",
      "source": [
        "Q. Write a program to reverse an integer in python."
      ],
      "metadata": {
        "id": "90E2L360d-L1"
      }
    },
    {
      "cell_type": "code",
      "execution_count": 8,
      "metadata": {
        "colab": {
          "base_uri": "https://localhost:8080/"
        },
        "id": "0s8ECrPad2WB",
        "outputId": "51225c23-c7a3-4b97-9b72-a8cbcf8fc352"
      },
      "outputs": [
        {
          "output_type": "stream",
          "name": "stdout",
          "text": [
            "4321\n"
          ]
        }
      ],
      "source": [
        "num = 1234\n",
        "ans = 0\n",
        "\n",
        "while num != 0:\n",
        "    ans = ans * 10 + num % 10\n",
        "    num //= 10\n",
        "\n",
        "print(ans)"
      ]
    },
    {
      "cell_type": "markdown",
      "source": [
        "Another Approach"
      ],
      "metadata": {
        "id": "guVlccWvirbj"
      }
    },
    {
      "cell_type": "code",
      "source": [
        "num = 123\n",
        "print(str(num)[::-1])"
      ],
      "metadata": {
        "colab": {
          "base_uri": "https://localhost:8080/"
        },
        "id": "K-0XU3ZKiqg7",
        "outputId": "7060034b-0846-4cb3-a1e3-450f909bdf37"
      },
      "execution_count": 14,
      "outputs": [
        {
          "output_type": "stream",
          "name": "stdout",
          "text": [
            "321\n"
          ]
        }
      ]
    },
    {
      "cell_type": "markdown",
      "source": [
        "Q. Write a program to print fibonacci series "
      ],
      "metadata": {
        "id": "yaZE2yaHjcx6"
      }
    },
    {
      "cell_type": "code",
      "source": [
        "# 0 1 1 2 3 5 8 13\n",
        "\n",
        "num = 7 # take any input\n",
        "a = 0\n",
        "b = 1\n",
        "c = 0\n",
        "\n",
        "for x in range(num):\n",
        "  print(c)\n",
        "  c = a + b\n",
        "  b = a\n",
        "  a = c\n",
        "  "
      ],
      "metadata": {
        "colab": {
          "base_uri": "https://localhost:8080/"
        },
        "id": "NKooGY8ijPUb",
        "outputId": "4919611e-e00b-4437-95f0-ba6d6ba01ea3"
      },
      "execution_count": 20,
      "outputs": [
        {
          "output_type": "stream",
          "name": "stdout",
          "text": [
            "0\n",
            "1\n",
            "1\n",
            "2\n",
            "3\n",
            "5\n",
            "8\n"
          ]
        }
      ]
    },
    {
      "cell_type": "markdown",
      "source": [
        "Q. Program to swap 2 numbers without using 3rd"
      ],
      "metadata": {
        "id": "bJepIVkLpWff"
      }
    },
    {
      "cell_type": "code",
      "source": [
        "# swap without 3rd variable\n",
        "\n",
        "a = 10\n",
        "b = 20\n",
        "a = a ^ b\n",
        "b = a ^ b\n",
        "a = a ^ b\n",
        "\n",
        "print(a)\n",
        "print(b)\n",
        "\n",
        "# another approach\n",
        "x = 100\n",
        "y = 200\n",
        "\n",
        "x,y = y,x\n",
        "print(x)\n",
        "print(y)"
      ],
      "metadata": {
        "colab": {
          "base_uri": "https://localhost:8080/"
        },
        "id": "fW5nsxMMpVM_",
        "outputId": "677d85ae-f3ba-49c9-f5c5-06a4462f8ab7"
      },
      "execution_count": 29,
      "outputs": [
        {
          "output_type": "stream",
          "name": "stdout",
          "text": [
            "20\n",
            "10\n",
            "200\n",
            "100\n"
          ]
        }
      ]
    },
    {
      "cell_type": "markdown",
      "source": [
        "Q. Program to calculate LCM of 2 numbers "
      ],
      "metadata": {
        "id": "GR7WPFTCq5ne"
      }
    },
    {
      "cell_type": "code",
      "source": [
        ""
      ],
      "metadata": {
        "id": "WefNIm3Fq4K_"
      },
      "execution_count": null,
      "outputs": []
    }
  ]
}