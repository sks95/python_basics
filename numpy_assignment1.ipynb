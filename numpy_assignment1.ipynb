{
  "nbformat": 4,
  "nbformat_minor": 0,
  "metadata": {
    "colab": {
      "name": "numpy_assignment1.ipynb",
      "provenance": [],
      "collapsed_sections": [],
      "authorship_tag": "ABX9TyP8ZCXu9auVW3XEKOPY50UC",
      "include_colab_link": true
    },
    "kernelspec": {
      "name": "python3",
      "display_name": "Python 3"
    },
    "language_info": {
      "name": "python"
    }
  },
  "cells": [
    {
      "cell_type": "markdown",
      "metadata": {
        "id": "view-in-github",
        "colab_type": "text"
      },
      "source": [
        "<a href=\"https://colab.research.google.com/github/sks95/python_basics/blob/main/numpy_assignment1.ipynb\" target=\"_parent\"><img src=\"https://colab.research.google.com/assets/colab-badge.svg\" alt=\"Open In Colab\"/></a>"
      ]
    },
    {
      "cell_type": "code",
      "execution_count": 39,
      "metadata": {
        "id": "Ovz7ff2Qfl13"
      },
      "outputs": [],
      "source": [
        "import numpy as np"
      ]
    },
    {
      "cell_type": "code",
      "source": [
        "# Create an array of 10 zeros\n",
        "\n",
        "arr = np.zeros(10,dtype='int32')\n",
        "(arr)"
      ],
      "metadata": {
        "colab": {
          "base_uri": "https://localhost:8080/"
        },
        "id": "1Kx6EHB8iHV-",
        "outputId": "21bdbd0b-bf1c-4f14-beb5-54725e41fc9a"
      },
      "execution_count": 40,
      "outputs": [
        {
          "output_type": "execute_result",
          "data": {
            "text/plain": [
              "array([0, 0, 0, 0, 0, 0, 0, 0, 0, 0], dtype=int32)"
            ]
          },
          "metadata": {},
          "execution_count": 40
        }
      ]
    },
    {
      "cell_type": "code",
      "source": [
        "# Create an array of 10 ones\n",
        "\n",
        "arr = np.ones(10)\n",
        "(arr)"
      ],
      "metadata": {
        "colab": {
          "base_uri": "https://localhost:8080/"
        },
        "id": "VvFqdMrri6rB",
        "outputId": "d69f0e02-4a7b-493f-bd39-41a18fd9779a"
      },
      "execution_count": 41,
      "outputs": [
        {
          "output_type": "execute_result",
          "data": {
            "text/plain": [
              "array([1., 1., 1., 1., 1., 1., 1., 1., 1., 1.])"
            ]
          },
          "metadata": {},
          "execution_count": 41
        }
      ]
    },
    {
      "cell_type": "code",
      "source": [
        "# Create an array of 10 fives\n",
        "\n",
        "arr = np.ones(10)*5\n",
        "(arr)"
      ],
      "metadata": {
        "colab": {
          "base_uri": "https://localhost:8080/"
        },
        "id": "lV6Oex62jbZy",
        "outputId": "fbd3d219-fdda-4305-f419-61d027494270"
      },
      "execution_count": 42,
      "outputs": [
        {
          "output_type": "execute_result",
          "data": {
            "text/plain": [
              "array([5., 5., 5., 5., 5., 5., 5., 5., 5., 5.])"
            ]
          },
          "metadata": {},
          "execution_count": 42
        }
      ]
    },
    {
      "cell_type": "code",
      "source": [
        "# Create an array of integers from 10 to 50\n",
        "\n",
        "arr = np.arange(10,51)\n",
        "(arr)"
      ],
      "metadata": {
        "colab": {
          "base_uri": "https://localhost:8080/"
        },
        "id": "E6bazpiZjl9Q",
        "outputId": "e14074d6-6854-4e4a-a1c5-768d13cabcfb"
      },
      "execution_count": 43,
      "outputs": [
        {
          "output_type": "execute_result",
          "data": {
            "text/plain": [
              "array([10, 11, 12, 13, 14, 15, 16, 17, 18, 19, 20, 21, 22, 23, 24, 25, 26,\n",
              "       27, 28, 29, 30, 31, 32, 33, 34, 35, 36, 37, 38, 39, 40, 41, 42, 43,\n",
              "       44, 45, 46, 47, 48, 49, 50])"
            ]
          },
          "metadata": {},
          "execution_count": 43
        }
      ]
    },
    {
      "cell_type": "code",
      "source": [
        "# Create an array of even integers from 10 to 50\n",
        "\n",
        "arr = np.arange(10,51,2)\n",
        "(arr)"
      ],
      "metadata": {
        "colab": {
          "base_uri": "https://localhost:8080/"
        },
        "id": "JQyxO9aMkCXC",
        "outputId": "f4cb24f3-cd53-49a8-db7d-6783d1373982"
      },
      "execution_count": 44,
      "outputs": [
        {
          "output_type": "execute_result",
          "data": {
            "text/plain": [
              "array([10, 12, 14, 16, 18, 20, 22, 24, 26, 28, 30, 32, 34, 36, 38, 40, 42,\n",
              "       44, 46, 48, 50])"
            ]
          },
          "metadata": {},
          "execution_count": 44
        }
      ]
    },
    {
      "cell_type": "code",
      "source": [
        "# Create a 3 x 4 matrix ranging from 0 to 12\n",
        "\n",
        "arr = np.arange(12, dtype='int32').reshape(3,4)\n",
        "(arr)"
      ],
      "metadata": {
        "colab": {
          "base_uri": "https://localhost:8080/"
        },
        "id": "szdN1bDjkVKz",
        "outputId": "0210cba0-8d0f-4296-80bc-5bb189496265"
      },
      "execution_count": 45,
      "outputs": [
        {
          "output_type": "execute_result",
          "data": {
            "text/plain": [
              "array([[ 0,  1,  2,  3],\n",
              "       [ 4,  5,  6,  7],\n",
              "       [ 8,  9, 10, 11]], dtype=int32)"
            ]
          },
          "metadata": {},
          "execution_count": 45
        }
      ]
    },
    {
      "cell_type": "code",
      "source": [
        "# Create a 3 x 3 Identity matrix\n",
        "\n",
        "arr = np.eye(3,3, dtype='int32')\n",
        "arr"
      ],
      "metadata": {
        "colab": {
          "base_uri": "https://localhost:8080/"
        },
        "id": "yqoisKnMlUJF",
        "outputId": "d44d8cbf-3d7d-4f1a-82e2-fa37d390ac1d"
      },
      "execution_count": 46,
      "outputs": [
        {
          "output_type": "execute_result",
          "data": {
            "text/plain": [
              "array([[1, 0, 0],\n",
              "       [0, 1, 0],\n",
              "       [0, 0, 1]], dtype=int32)"
            ]
          },
          "metadata": {},
          "execution_count": 46
        }
      ]
    },
    {
      "cell_type": "code",
      "source": [
        "# Use Numpy to generate a random number between 0 and 1\n",
        "\n",
        "num = np.random.normal(0,1,1)\n",
        "num"
      ],
      "metadata": {
        "colab": {
          "base_uri": "https://localhost:8080/"
        },
        "id": "rRCP-J23m4h4",
        "outputId": "e7b16bd6-d7c7-43bb-ca43-cd0894a53d40"
      },
      "execution_count": 47,
      "outputs": [
        {
          "output_type": "execute_result",
          "data": {
            "text/plain": [
              "array([0.34439942])"
            ]
          },
          "metadata": {},
          "execution_count": 47
        }
      ]
    },
    {
      "cell_type": "code",
      "source": [
        "# Use Numpy to generate an array of 25 Random numbers sampled from a normal distribution\n",
        "\n",
        "arr = np.random.normal(0,1,25)\n",
        "arr"
      ],
      "metadata": {
        "colab": {
          "base_uri": "https://localhost:8080/"
        },
        "id": "0J71_Jxop9bP",
        "outputId": "08684e0f-7972-484c-af89-67ff29de094d"
      },
      "execution_count": 48,
      "outputs": [
        {
          "output_type": "execute_result",
          "data": {
            "text/plain": [
              "array([ 0.10497552,  1.17495289, -1.99258708, -0.39105623, -1.34811158,\n",
              "        1.50420338,  1.01456247, -1.93977459,  0.09283607, -0.01044613,\n",
              "       -0.19810262, -0.48410209,  0.61773105,  0.77762379, -0.30428914,\n",
              "       -0.72450561, -0.41015467, -0.74103626, -0.64175384,  1.49688296,\n",
              "        0.40969862,  1.60031602,  0.20529   ,  0.01574028, -0.18043514])"
            ]
          },
          "metadata": {},
          "execution_count": 48
        }
      ]
    },
    {
      "cell_type": "code",
      "source": [
        "# Create an (10x10)array having number from 0.01 to 1 increasing by 0.01\n",
        "\n",
        "arr = np.linspace(0.01,1, num=100).reshape(10,10)\n",
        "arr"
      ],
      "metadata": {
        "colab": {
          "base_uri": "https://localhost:8080/"
        },
        "id": "S622_WCarzzx",
        "outputId": "5b43d3a1-ffec-4c83-bde9-2fc4ec2a0d18"
      },
      "execution_count": 49,
      "outputs": [
        {
          "output_type": "execute_result",
          "data": {
            "text/plain": [
              "array([[0.01, 0.02, 0.03, 0.04, 0.05, 0.06, 0.07, 0.08, 0.09, 0.1 ],\n",
              "       [0.11, 0.12, 0.13, 0.14, 0.15, 0.16, 0.17, 0.18, 0.19, 0.2 ],\n",
              "       [0.21, 0.22, 0.23, 0.24, 0.25, 0.26, 0.27, 0.28, 0.29, 0.3 ],\n",
              "       [0.31, 0.32, 0.33, 0.34, 0.35, 0.36, 0.37, 0.38, 0.39, 0.4 ],\n",
              "       [0.41, 0.42, 0.43, 0.44, 0.45, 0.46, 0.47, 0.48, 0.49, 0.5 ],\n",
              "       [0.51, 0.52, 0.53, 0.54, 0.55, 0.56, 0.57, 0.58, 0.59, 0.6 ],\n",
              "       [0.61, 0.62, 0.63, 0.64, 0.65, 0.66, 0.67, 0.68, 0.69, 0.7 ],\n",
              "       [0.71, 0.72, 0.73, 0.74, 0.75, 0.76, 0.77, 0.78, 0.79, 0.8 ],\n",
              "       [0.81, 0.82, 0.83, 0.84, 0.85, 0.86, 0.87, 0.88, 0.89, 0.9 ],\n",
              "       [0.91, 0.92, 0.93, 0.94, 0.95, 0.96, 0.97, 0.98, 0.99, 1.  ]])"
            ]
          },
          "metadata": {},
          "execution_count": 49
        }
      ]
    },
    {
      "cell_type": "markdown",
      "source": [
        "# Numpy Indexing & Slicing"
      ],
      "metadata": {
        "id": "PTi_Ltcws9hO"
      }
    },
    {
      "cell_type": "code",
      "source": [
        "ar = (np.arange(25)+1).reshape(5,5)\n",
        "ar"
      ],
      "metadata": {
        "colab": {
          "base_uri": "https://localhost:8080/"
        },
        "id": "XhwKuLLQs5v7",
        "outputId": "6e684e5a-067d-4c58-ba4b-925f7e4720e2"
      },
      "execution_count": 50,
      "outputs": [
        {
          "output_type": "execute_result",
          "data": {
            "text/plain": [
              "array([[ 1,  2,  3,  4,  5],\n",
              "       [ 6,  7,  8,  9, 10],\n",
              "       [11, 12, 13, 14, 15],\n",
              "       [16, 17, 18, 19, 20],\n",
              "       [21, 22, 23, 24, 25]])"
            ]
          },
          "metadata": {},
          "execution_count": 50
        }
      ]
    },
    {
      "cell_type": "markdown",
      "source": [
        "extract array\n",
        "\n",
        "[ [12,13,14],\n",
        "\n",
        "[17,18,19],\n",
        "\n",
        "[22,23,24] ]"
      ],
      "metadata": {
        "id": "snsdM-UUtRZL"
      }
    },
    {
      "cell_type": "code",
      "source": [
        "new_ar = ar[2:,1:4]\n",
        "new_ar"
      ],
      "metadata": {
        "colab": {
          "base_uri": "https://localhost:8080/"
        },
        "id": "mLm3AIvttOJf",
        "outputId": "de498a20-01f9-45ea-c5ef-e92c244ce809"
      },
      "execution_count": 51,
      "outputs": [
        {
          "output_type": "execute_result",
          "data": {
            "text/plain": [
              "array([[12, 13, 14],\n",
              "       [17, 18, 19],\n",
              "       [22, 23, 24]])"
            ]
          },
          "metadata": {},
          "execution_count": 51
        }
      ]
    },
    {
      "cell_type": "markdown",
      "source": [
        "extract array\n",
        "\n",
        "[ [14, 13, 12],\n",
        "\n",
        "[19, 18, 17],\n",
        "\n",
        "[24, 23, 22] ]"
      ],
      "metadata": {
        "id": "_SfHtHtTy4Qc"
      }
    },
    {
      "cell_type": "code",
      "source": [
        "new_ar1 = new_ar[:,::-1]"
      ],
      "metadata": {
        "id": "CdzoGygtyzCh"
      },
      "execution_count": 52,
      "outputs": []
    },
    {
      "cell_type": "markdown",
      "source": [
        "extract array\n",
        "\n",
        "[ [24, 23, 22],\n",
        "\n",
        "[19, 18, 17],\n",
        "\n",
        "[14, 13, 12],\n",
        "]"
      ],
      "metadata": {
        "id": "TJwJgimGNSYw"
      }
    },
    {
      "cell_type": "code",
      "source": [
        "new_ar2 = new_ar1[::-1,:];\n",
        "new_ar2"
      ],
      "metadata": {
        "colab": {
          "base_uri": "https://localhost:8080/"
        },
        "id": "T7ZLPlAKNRP9",
        "outputId": "6f26d19a-0f94-495c-e1e7-d11f79b75a73"
      },
      "execution_count": 53,
      "outputs": [
        {
          "output_type": "execute_result",
          "data": {
            "text/plain": [
              "array([[24, 23, 22],\n",
              "       [19, 18, 17],\n",
              "       [14, 13, 12]])"
            ]
          },
          "metadata": {},
          "execution_count": 53
        }
      ]
    },
    {
      "cell_type": "markdown",
      "source": [
        "# Split Concatenate"
      ],
      "metadata": {
        "id": "uO-30Na2OIkT"
      }
    },
    {
      "cell_type": "code",
      "source": [
        "ar = np.arange(2,10)\n",
        "ar"
      ],
      "metadata": {
        "colab": {
          "base_uri": "https://localhost:8080/"
        },
        "id": "6elAhrphOFcG",
        "outputId": "324a01b9-ce1e-4487-9ba0-736c36cd0f42"
      },
      "execution_count": 54,
      "outputs": [
        {
          "output_type": "execute_result",
          "data": {
            "text/plain": [
              "array([2, 3, 4, 5, 6, 7, 8, 9])"
            ]
          },
          "metadata": {},
          "execution_count": 54
        }
      ]
    },
    {
      "cell_type": "markdown",
      "source": [
        "Split array to generate 3 arrays with content\n",
        "\n",
        "[2,3,4]\n",
        "\n",
        "[5, 6]\n",
        "\n",
        "[]\n",
        "\n",
        "[7,8,9]"
      ],
      "metadata": {
        "id": "DYd95qRLOUom"
      }
    },
    {
      "cell_type": "code",
      "source": [
        "np.split(ar, [3,5])\n"
      ],
      "metadata": {
        "colab": {
          "base_uri": "https://localhost:8080/"
        },
        "id": "M7J4EvapOUCu",
        "outputId": "cc0b63cf-e724-4533-adac-378bad6bd843"
      },
      "execution_count": 55,
      "outputs": [
        {
          "output_type": "execute_result",
          "data": {
            "text/plain": [
              "[array([2, 3, 4]), array([5, 6]), array([7, 8, 9])]"
            ]
          },
          "metadata": {},
          "execution_count": 55
        }
      ]
    },
    {
      "cell_type": "markdown",
      "source": [
        "# 2D"
      ],
      "metadata": {
        "id": "Yp_fyymyWaLF"
      }
    },
    {
      "cell_type": "code",
      "source": [
        "a = np.array([\n",
        "              [1,2,3],\n",
        "              [4,5,6]\n",
        "])\n",
        "b = np.array([\n",
        "              [7,8,9]\n",
        "])"
      ],
      "metadata": {
        "id": "hoL131oxWZtu"
      },
      "execution_count": 56,
      "outputs": []
    },
    {
      "cell_type": "markdown",
      "source": [
        "Concatinate array to create new array with content\n",
        "\n",
        "[ [1,2,3],\n",
        "\n",
        "[4,5,6],\n",
        "\n",
        "[7,8,9] ]"
      ],
      "metadata": {
        "id": "YGTnJmgYWjqu"
      }
    },
    {
      "cell_type": "code",
      "source": [
        "np.concatenate((a,b))"
      ],
      "metadata": {
        "colab": {
          "base_uri": "https://localhost:8080/"
        },
        "id": "W0MlrvvCWjCI",
        "outputId": "609a0116-7c69-4d87-b6d8-20fe8575e9c2"
      },
      "execution_count": 57,
      "outputs": [
        {
          "output_type": "execute_result",
          "data": {
            "text/plain": [
              "array([[1, 2, 3],\n",
              "       [4, 5, 6],\n",
              "       [7, 8, 9]])"
            ]
          },
          "metadata": {},
          "execution_count": 57
        }
      ]
    },
    {
      "cell_type": "code",
      "source": [
        "a = np.array([\n",
        "              [1,2,3],\n",
        "              [4,5,6]\n",
        "])\n",
        "b = np.array([\n",
        "              [7,8,9, 10],\n",
        "              [11, 12, 13, 14]\n",
        "])"
      ],
      "metadata": {
        "id": "OuMGdz5wXw6q"
      },
      "execution_count": 58,
      "outputs": []
    },
    {
      "cell_type": "markdown",
      "source": [
        "Concatinate array to create new array with content\n",
        "\n",
        "[\n",
        "\n",
        "[1,2,3, 7,8,9, 10],\n",
        "\n",
        "[4,5,6, 11, 12, 13, 14]\n",
        "\n",
        "]"
      ],
      "metadata": {
        "id": "w55Xcd9iX6u3"
      }
    },
    {
      "cell_type": "code",
      "source": [
        "np.concatenate((a,b),axis=1)"
      ],
      "metadata": {
        "colab": {
          "base_uri": "https://localhost:8080/"
        },
        "id": "t_oQzhRCX6Fk",
        "outputId": "6a2d30d8-1c5a-44de-ec57-94b190d80ea3"
      },
      "execution_count": 59,
      "outputs": [
        {
          "output_type": "execute_result",
          "data": {
            "text/plain": [
              "array([[ 1,  2,  3,  7,  8,  9, 10],\n",
              "       [ 4,  5,  6, 11, 12, 13, 14]])"
            ]
          },
          "metadata": {},
          "execution_count": 59
        }
      ]
    },
    {
      "cell_type": "markdown",
      "source": [
        "# Broadcasting and Indexing"
      ],
      "metadata": {
        "id": "gmRB_fqJYHLW"
      }
    },
    {
      "cell_type": "markdown",
      "source": [
        "count how many numbers are minimum in ar\n",
        "\n",
        "example for arr = [2, 4, 6, 2, 9, 2]\n",
        "\n",
        "min is 2\n",
        "\n",
        "there are 3 occurences of 2"
      ],
      "metadata": {
        "id": "49TLrzDMYOeC"
      }
    },
    {
      "cell_type": "code",
      "source": [
        "arr = np.round(np.random.rand(10)*10)\n",
        "arr"
      ],
      "metadata": {
        "colab": {
          "base_uri": "https://localhost:8080/"
        },
        "id": "bVjG8OyBYDNn",
        "outputId": "f9b41c7b-f5ee-4937-a2be-b1995c449ec9"
      },
      "execution_count": 60,
      "outputs": [
        {
          "output_type": "execute_result",
          "data": {
            "text/plain": [
              "array([3., 8., 5., 6., 5., 8., 1., 3., 3., 9.])"
            ]
          },
          "metadata": {},
          "execution_count": 60
        }
      ]
    },
    {
      "cell_type": "markdown",
      "source": [
        "create new array containing all numbers which are smaller than 10 in ar"
      ],
      "metadata": {
        "id": "owL84gmpaWGt"
      }
    },
    {
      "cell_type": "code",
      "source": [
        "ar = np.round(np.random.rand(10)*10)\n",
        "ar"
      ],
      "metadata": {
        "colab": {
          "base_uri": "https://localhost:8080/"
        },
        "id": "r_4cObj3bpk9",
        "outputId": "33411167-8b66-4f29-ba06-cbd2d33f2612"
      },
      "execution_count": 61,
      "outputs": [
        {
          "output_type": "execute_result",
          "data": {
            "text/plain": [
              "array([ 3., 10.,  5.,  1.,  1., 10.,  7.,  5.,  7.,  4.])"
            ]
          },
          "metadata": {},
          "execution_count": 61
        }
      ]
    },
    {
      "cell_type": "markdown",
      "source": [
        "create new array containing all numbers which are in range [3, 11] in ar"
      ],
      "metadata": {
        "id": "2ttr9vYJcaNq"
      }
    },
    {
      "cell_type": "code",
      "source": [
        "ar = np.arange(3,12)"
      ],
      "metadata": {
        "id": "HNQF4h1EaBz8"
      },
      "execution_count": 62,
      "outputs": []
    }
  ]
}