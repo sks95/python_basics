{
  "nbformat": 4,
  "nbformat_minor": 0,
  "metadata": {
    "colab": {
      "name": "numpy_assignment1.ipynb",
      "provenance": [],
      "collapsed_sections": [],
      "authorship_tag": "ABX9TyNoIgp6nxE8BhTw00DQoOdo",
      "include_colab_link": true
    },
    "kernelspec": {
      "name": "python3",
      "display_name": "Python 3"
    },
    "language_info": {
      "name": "python"
    }
  },
  "cells": [
    {
      "cell_type": "markdown",
      "metadata": {
        "id": "view-in-github",
        "colab_type": "text"
      },
      "source": [
        "<a href=\"https://colab.research.google.com/github/sks95/python_basics/blob/main/numpy_assignment1.ipynb\" target=\"_parent\"><img src=\"https://colab.research.google.com/assets/colab-badge.svg\" alt=\"Open In Colab\"/></a>"
      ]
    },
    {
      "cell_type": "code",
      "execution_count": 2,
      "metadata": {
        "id": "Ovz7ff2Qfl13"
      },
      "outputs": [],
      "source": [
        "import numpy as np"
      ]
    },
    {
      "cell_type": "code",
      "source": [
        "# Create an array of 10 zeros\n",
        "\n",
        "arr = np.zeros(10,dtype='int32')\n",
        "(arr)"
      ],
      "metadata": {
        "colab": {
          "base_uri": "https://localhost:8080/"
        },
        "id": "1Kx6EHB8iHV-",
        "outputId": "b59e8a87-c7f4-4e20-b673-97578f37a1ba"
      },
      "execution_count": 3,
      "outputs": [
        {
          "output_type": "execute_result",
          "data": {
            "text/plain": [
              "array([0, 0, 0, 0, 0, 0, 0, 0, 0, 0], dtype=int32)"
            ]
          },
          "metadata": {},
          "execution_count": 3
        }
      ]
    },
    {
      "cell_type": "code",
      "source": [
        "# Create an array of 10 ones\n",
        "\n",
        "arr = np.ones(10)\n",
        "(arr)"
      ],
      "metadata": {
        "colab": {
          "base_uri": "https://localhost:8080/"
        },
        "id": "VvFqdMrri6rB",
        "outputId": "45af7506-594b-4532-d68f-1bb4b042dc82"
      },
      "execution_count": 4,
      "outputs": [
        {
          "output_type": "execute_result",
          "data": {
            "text/plain": [
              "array([1., 1., 1., 1., 1., 1., 1., 1., 1., 1.])"
            ]
          },
          "metadata": {},
          "execution_count": 4
        }
      ]
    },
    {
      "cell_type": "code",
      "source": [
        "# Create an array of 10 fives\n",
        "\n",
        "arr = np.ones(10)*5\n",
        "(arr)"
      ],
      "metadata": {
        "colab": {
          "base_uri": "https://localhost:8080/"
        },
        "id": "lV6Oex62jbZy",
        "outputId": "4ae05c83-fb53-4d89-899e-2f0a15587705"
      },
      "execution_count": 5,
      "outputs": [
        {
          "output_type": "execute_result",
          "data": {
            "text/plain": [
              "array([5., 5., 5., 5., 5., 5., 5., 5., 5., 5.])"
            ]
          },
          "metadata": {},
          "execution_count": 5
        }
      ]
    },
    {
      "cell_type": "code",
      "source": [
        "# Create an array of integers from 10 to 50\n",
        "\n",
        "arr = np.arange(10,51)\n",
        "(arr)"
      ],
      "metadata": {
        "colab": {
          "base_uri": "https://localhost:8080/"
        },
        "id": "E6bazpiZjl9Q",
        "outputId": "903592f1-cd79-4ad4-98af-e781b3789d3e"
      },
      "execution_count": 6,
      "outputs": [
        {
          "output_type": "execute_result",
          "data": {
            "text/plain": [
              "array([10, 11, 12, 13, 14, 15, 16, 17, 18, 19, 20, 21, 22, 23, 24, 25, 26,\n",
              "       27, 28, 29, 30, 31, 32, 33, 34, 35, 36, 37, 38, 39, 40, 41, 42, 43,\n",
              "       44, 45, 46, 47, 48, 49, 50])"
            ]
          },
          "metadata": {},
          "execution_count": 6
        }
      ]
    },
    {
      "cell_type": "code",
      "source": [
        "# Create an array of even integers from 10 to 50\n",
        "\n",
        "arr = np.arange(10,51,2)\n",
        "(arr)"
      ],
      "metadata": {
        "colab": {
          "base_uri": "https://localhost:8080/"
        },
        "id": "JQyxO9aMkCXC",
        "outputId": "b2d7f7e0-287d-4f9d-cf9e-b6a92f05acca"
      },
      "execution_count": 7,
      "outputs": [
        {
          "output_type": "execute_result",
          "data": {
            "text/plain": [
              "array([10, 12, 14, 16, 18, 20, 22, 24, 26, 28, 30, 32, 34, 36, 38, 40, 42,\n",
              "       44, 46, 48, 50])"
            ]
          },
          "metadata": {},
          "execution_count": 7
        }
      ]
    },
    {
      "cell_type": "code",
      "source": [
        "# Create a 3 x 4 matrix ranging from 0 to 12\n",
        "\n",
        "arr = np.arange(12, dtype='int32').reshape(3,4)\n",
        "(arr)"
      ],
      "metadata": {
        "colab": {
          "base_uri": "https://localhost:8080/"
        },
        "id": "szdN1bDjkVKz",
        "outputId": "14d20dcb-e21d-4a03-b6d5-4ba2c4c2356b"
      },
      "execution_count": 8,
      "outputs": [
        {
          "output_type": "execute_result",
          "data": {
            "text/plain": [
              "array([[ 0,  1,  2,  3],\n",
              "       [ 4,  5,  6,  7],\n",
              "       [ 8,  9, 10, 11]], dtype=int32)"
            ]
          },
          "metadata": {},
          "execution_count": 8
        }
      ]
    },
    {
      "cell_type": "code",
      "source": [
        "# Create a 3 x 3 Identity matrix\n",
        "\n",
        "arr = np.eye(3,3, dtype='int32')\n",
        "arr"
      ],
      "metadata": {
        "colab": {
          "base_uri": "https://localhost:8080/"
        },
        "id": "yqoisKnMlUJF",
        "outputId": "88187bfa-a33c-48b7-e63e-b69dcde974e7"
      },
      "execution_count": 9,
      "outputs": [
        {
          "output_type": "execute_result",
          "data": {
            "text/plain": [
              "array([[1, 0, 0],\n",
              "       [0, 1, 0],\n",
              "       [0, 0, 1]], dtype=int32)"
            ]
          },
          "metadata": {},
          "execution_count": 9
        }
      ]
    },
    {
      "cell_type": "code",
      "source": [
        "# Use Numpy to generate a random number between 0 and 1\n",
        "\n",
        "num = np.random.normal(0,1,1)\n",
        "num"
      ],
      "metadata": {
        "colab": {
          "base_uri": "https://localhost:8080/"
        },
        "id": "rRCP-J23m4h4",
        "outputId": "fe0678ea-0ea1-4527-83e3-f805add092ff"
      },
      "execution_count": 10,
      "outputs": [
        {
          "output_type": "execute_result",
          "data": {
            "text/plain": [
              "array([0.99148725])"
            ]
          },
          "metadata": {},
          "execution_count": 10
        }
      ]
    },
    {
      "cell_type": "code",
      "source": [
        "# Use Numpy to generate an array of 25 Random numbers sampled from a normal distribution\n",
        "\n",
        "arr = np.random.normal(0,1,25)\n",
        "arr"
      ],
      "metadata": {
        "colab": {
          "base_uri": "https://localhost:8080/"
        },
        "id": "0J71_Jxop9bP",
        "outputId": "eb6dbda7-8359-447f-eda7-ccfe03d25b42"
      },
      "execution_count": 11,
      "outputs": [
        {
          "output_type": "execute_result",
          "data": {
            "text/plain": [
              "array([ 0.75646852,  0.9452796 , -0.58901394, -0.5116021 , -2.51700956,\n",
              "        2.29767987,  0.49618056, -2.45531173,  0.84523578,  1.03720546,\n",
              "        0.23136855, -0.8831368 , -0.21467897, -0.28607925,  0.29638459,\n",
              "        1.03138503,  0.65647295,  1.86371897, -0.60131767,  1.00697355,\n",
              "        0.3610214 ,  1.04039581,  0.64150345,  0.47029631, -0.49388889])"
            ]
          },
          "metadata": {},
          "execution_count": 11
        }
      ]
    },
    {
      "cell_type": "code",
      "source": [
        "# Create an (10x10)array having number from 0.01 to 1 increasing by 0.01\n",
        "\n",
        "arr = np.linspace(0.01,1, num=100).reshape(10,10)\n",
        "arr"
      ],
      "metadata": {
        "colab": {
          "base_uri": "https://localhost:8080/"
        },
        "id": "S622_WCarzzx",
        "outputId": "c739c7ed-f1dd-4732-cbb8-985e02f90b92"
      },
      "execution_count": 12,
      "outputs": [
        {
          "output_type": "execute_result",
          "data": {
            "text/plain": [
              "array([[0.01, 0.02, 0.03, 0.04, 0.05, 0.06, 0.07, 0.08, 0.09, 0.1 ],\n",
              "       [0.11, 0.12, 0.13, 0.14, 0.15, 0.16, 0.17, 0.18, 0.19, 0.2 ],\n",
              "       [0.21, 0.22, 0.23, 0.24, 0.25, 0.26, 0.27, 0.28, 0.29, 0.3 ],\n",
              "       [0.31, 0.32, 0.33, 0.34, 0.35, 0.36, 0.37, 0.38, 0.39, 0.4 ],\n",
              "       [0.41, 0.42, 0.43, 0.44, 0.45, 0.46, 0.47, 0.48, 0.49, 0.5 ],\n",
              "       [0.51, 0.52, 0.53, 0.54, 0.55, 0.56, 0.57, 0.58, 0.59, 0.6 ],\n",
              "       [0.61, 0.62, 0.63, 0.64, 0.65, 0.66, 0.67, 0.68, 0.69, 0.7 ],\n",
              "       [0.71, 0.72, 0.73, 0.74, 0.75, 0.76, 0.77, 0.78, 0.79, 0.8 ],\n",
              "       [0.81, 0.82, 0.83, 0.84, 0.85, 0.86, 0.87, 0.88, 0.89, 0.9 ],\n",
              "       [0.91, 0.92, 0.93, 0.94, 0.95, 0.96, 0.97, 0.98, 0.99, 1.  ]])"
            ]
          },
          "metadata": {},
          "execution_count": 12
        }
      ]
    },
    {
      "cell_type": "markdown",
      "source": [
        "# Numpy Indexing & Slicing"
      ],
      "metadata": {
        "id": "PTi_Ltcws9hO"
      }
    },
    {
      "cell_type": "code",
      "source": [
        "ar = (np.arange(25)+1).reshape(5,5)\n",
        "ar"
      ],
      "metadata": {
        "colab": {
          "base_uri": "https://localhost:8080/"
        },
        "id": "XhwKuLLQs5v7",
        "outputId": "28d0efda-4be3-41a6-f088-4c195e555ab3"
      },
      "execution_count": 13,
      "outputs": [
        {
          "output_type": "execute_result",
          "data": {
            "text/plain": [
              "array([[ 1,  2,  3,  4,  5],\n",
              "       [ 6,  7,  8,  9, 10],\n",
              "       [11, 12, 13, 14, 15],\n",
              "       [16, 17, 18, 19, 20],\n",
              "       [21, 22, 23, 24, 25]])"
            ]
          },
          "metadata": {},
          "execution_count": 13
        }
      ]
    },
    {
      "cell_type": "markdown",
      "source": [
        "extract array\n",
        "\n",
        "[ [12,13,14],\n",
        "\n",
        "[17,18,19],\n",
        "\n",
        "[22,23,24] ]"
      ],
      "metadata": {
        "id": "snsdM-UUtRZL"
      }
    },
    {
      "cell_type": "code",
      "source": [
        "new_ar = ar[2:,1:4]\n",
        "new_ar"
      ],
      "metadata": {
        "colab": {
          "base_uri": "https://localhost:8080/"
        },
        "id": "mLm3AIvttOJf",
        "outputId": "4ef3be6b-9c85-4f1d-b1cb-4b334b993a2f"
      },
      "execution_count": 14,
      "outputs": [
        {
          "output_type": "execute_result",
          "data": {
            "text/plain": [
              "array([[12, 13, 14],\n",
              "       [17, 18, 19],\n",
              "       [22, 23, 24]])"
            ]
          },
          "metadata": {},
          "execution_count": 14
        }
      ]
    },
    {
      "cell_type": "markdown",
      "source": [
        "extract array\n",
        "\n",
        "[ [14, 13, 12],\n",
        "\n",
        "[19, 18, 17],\n",
        "\n",
        "[24, 23, 22] ]"
      ],
      "metadata": {
        "id": "_SfHtHtTy4Qc"
      }
    },
    {
      "cell_type": "code",
      "source": [
        "new_ar1 = new_ar[:,::-1]"
      ],
      "metadata": {
        "id": "CdzoGygtyzCh"
      },
      "execution_count": 17,
      "outputs": []
    },
    {
      "cell_type": "markdown",
      "source": [
        "extract array\n",
        "\n",
        "[ [24, 23, 22],\n",
        "\n",
        "[19, 18, 17],\n",
        "\n",
        "[14, 13, 12],\n",
        "]"
      ],
      "metadata": {
        "id": "TJwJgimGNSYw"
      }
    },
    {
      "cell_type": "code",
      "source": [
        "new_ar2 = new_ar1[::-1,:];\n",
        "new_ar2"
      ],
      "metadata": {
        "colab": {
          "base_uri": "https://localhost:8080/"
        },
        "id": "T7ZLPlAKNRP9",
        "outputId": "cd44695e-297c-4fdb-e3ca-454a20f1f3b9"
      },
      "execution_count": 21,
      "outputs": [
        {
          "output_type": "execute_result",
          "data": {
            "text/plain": [
              "array([[24, 23, 22],\n",
              "       [19, 18, 17],\n",
              "       [14, 13, 12]])"
            ]
          },
          "metadata": {},
          "execution_count": 21
        }
      ]
    },
    {
      "cell_type": "markdown",
      "source": [
        "# Split Concatenate"
      ],
      "metadata": {
        "id": "uO-30Na2OIkT"
      }
    },
    {
      "cell_type": "code",
      "source": [
        "ar = np.arange(2,10)\n",
        "ar"
      ],
      "metadata": {
        "colab": {
          "base_uri": "https://localhost:8080/"
        },
        "id": "6elAhrphOFcG",
        "outputId": "cda69674-90be-42aa-a16e-913ad04708c5"
      },
      "execution_count": 23,
      "outputs": [
        {
          "output_type": "execute_result",
          "data": {
            "text/plain": [
              "array([2, 3, 4, 5, 6, 7, 8, 9])"
            ]
          },
          "metadata": {},
          "execution_count": 23
        }
      ]
    },
    {
      "cell_type": "markdown",
      "source": [
        "Split array to generate 3 arrays with content\n",
        "\n",
        "[2,3,4]\n",
        "\n",
        "[5, 6]\n",
        "\n",
        "[]\n",
        "\n",
        "[7,8,9]"
      ],
      "metadata": {
        "id": "DYd95qRLOUom"
      }
    },
    {
      "cell_type": "code",
      "source": [
        ""
      ],
      "metadata": {
        "id": "M7J4EvapOUCu"
      },
      "execution_count": null,
      "outputs": []
    }
  ]
}