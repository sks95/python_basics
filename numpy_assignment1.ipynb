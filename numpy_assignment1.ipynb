{
  "nbformat": 4,
  "nbformat_minor": 0,
  "metadata": {
    "colab": {
      "name": "numpy_assignment1.ipynb",
      "provenance": [],
      "collapsed_sections": [],
      "authorship_tag": "ABX9TyPY8bEJXN8t3PQS44NDhmPb",
      "include_colab_link": true
    },
    "kernelspec": {
      "name": "python3",
      "display_name": "Python 3"
    },
    "language_info": {
      "name": "python"
    }
  },
  "cells": [
    {
      "cell_type": "markdown",
      "metadata": {
        "id": "view-in-github",
        "colab_type": "text"
      },
      "source": [
        "<a href=\"https://colab.research.google.com/github/sks95/python_basics/blob/main/numpy_assignment1.ipynb\" target=\"_parent\"><img src=\"https://colab.research.google.com/assets/colab-badge.svg\" alt=\"Open In Colab\"/></a>"
      ]
    },
    {
      "cell_type": "code",
      "execution_count": 1,
      "metadata": {
        "id": "Ovz7ff2Qfl13"
      },
      "outputs": [],
      "source": [
        "import numpy as np"
      ]
    },
    {
      "cell_type": "code",
      "source": [
        "# Create an array of 10 zeros\n",
        "\n",
        "arr = np.zeros(10,dtype='int32')\n",
        "(arr)"
      ],
      "metadata": {
        "colab": {
          "base_uri": "https://localhost:8080/"
        },
        "id": "1Kx6EHB8iHV-",
        "outputId": "bc67b583-2831-41a6-e118-80f581efefe9"
      },
      "execution_count": 2,
      "outputs": [
        {
          "output_type": "execute_result",
          "data": {
            "text/plain": [
              "array([0, 0, 0, 0, 0, 0, 0, 0, 0, 0], dtype=int32)"
            ]
          },
          "metadata": {},
          "execution_count": 2
        }
      ]
    },
    {
      "cell_type": "code",
      "source": [
        "# Create an array of 10 ones\n",
        "\n",
        "arr = np.ones(10)\n",
        "(arr)"
      ],
      "metadata": {
        "colab": {
          "base_uri": "https://localhost:8080/"
        },
        "id": "VvFqdMrri6rB",
        "outputId": "d840613c-adff-4d2f-cb94-daee13fdd094"
      },
      "execution_count": 3,
      "outputs": [
        {
          "output_type": "execute_result",
          "data": {
            "text/plain": [
              "array([1., 1., 1., 1., 1., 1., 1., 1., 1., 1.])"
            ]
          },
          "metadata": {},
          "execution_count": 3
        }
      ]
    },
    {
      "cell_type": "code",
      "source": [
        "# Create an array of 10 fives\n",
        "\n",
        "arr = np.ones(10)*5\n",
        "(arr)"
      ],
      "metadata": {
        "colab": {
          "base_uri": "https://localhost:8080/"
        },
        "id": "lV6Oex62jbZy",
        "outputId": "e5a69dd1-4d50-47a0-eedd-36049d11c977"
      },
      "execution_count": 4,
      "outputs": [
        {
          "output_type": "execute_result",
          "data": {
            "text/plain": [
              "array([5., 5., 5., 5., 5., 5., 5., 5., 5., 5.])"
            ]
          },
          "metadata": {},
          "execution_count": 4
        }
      ]
    },
    {
      "cell_type": "code",
      "source": [
        "# Create an array of integers from 10 to 50\n",
        "\n",
        "arr = np.arange(10,51)\n",
        "(arr)"
      ],
      "metadata": {
        "colab": {
          "base_uri": "https://localhost:8080/"
        },
        "id": "E6bazpiZjl9Q",
        "outputId": "c89ac507-5c8f-4539-bdb3-aa68419516fb"
      },
      "execution_count": 5,
      "outputs": [
        {
          "output_type": "execute_result",
          "data": {
            "text/plain": [
              "array([10, 11, 12, 13, 14, 15, 16, 17, 18, 19, 20, 21, 22, 23, 24, 25, 26,\n",
              "       27, 28, 29, 30, 31, 32, 33, 34, 35, 36, 37, 38, 39, 40, 41, 42, 43,\n",
              "       44, 45, 46, 47, 48, 49, 50])"
            ]
          },
          "metadata": {},
          "execution_count": 5
        }
      ]
    },
    {
      "cell_type": "code",
      "source": [
        "# Create an array of even integers from 10 to 50\n",
        "\n",
        "arr = np.arange(10,51,2)\n",
        "(arr)"
      ],
      "metadata": {
        "colab": {
          "base_uri": "https://localhost:8080/"
        },
        "id": "JQyxO9aMkCXC",
        "outputId": "df2d40b4-48db-4b2d-d738-69efcb6334e8"
      },
      "execution_count": 6,
      "outputs": [
        {
          "output_type": "execute_result",
          "data": {
            "text/plain": [
              "array([10, 12, 14, 16, 18, 20, 22, 24, 26, 28, 30, 32, 34, 36, 38, 40, 42,\n",
              "       44, 46, 48, 50])"
            ]
          },
          "metadata": {},
          "execution_count": 6
        }
      ]
    },
    {
      "cell_type": "code",
      "source": [
        "# Create a 3 x 4 matrix ranging from 0 to 12\n",
        "\n",
        "arr = np.arange(12, dtype='int32').reshape(3,4)\n",
        "(arr)"
      ],
      "metadata": {
        "colab": {
          "base_uri": "https://localhost:8080/"
        },
        "id": "szdN1bDjkVKz",
        "outputId": "5d69a6f4-d6de-41ae-957d-c207cb979eb5"
      },
      "execution_count": 7,
      "outputs": [
        {
          "output_type": "execute_result",
          "data": {
            "text/plain": [
              "array([[ 0,  1,  2,  3],\n",
              "       [ 4,  5,  6,  7],\n",
              "       [ 8,  9, 10, 11]], dtype=int32)"
            ]
          },
          "metadata": {},
          "execution_count": 7
        }
      ]
    },
    {
      "cell_type": "code",
      "source": [
        "# Create a 3 x 3 Identity matrix\n",
        "\n",
        "arr = np.eye(3,3, dtype='int32')\n",
        "arr"
      ],
      "metadata": {
        "colab": {
          "base_uri": "https://localhost:8080/"
        },
        "id": "yqoisKnMlUJF",
        "outputId": "13b55d6a-1746-4af4-a318-66b3d45bffbf"
      },
      "execution_count": 8,
      "outputs": [
        {
          "output_type": "execute_result",
          "data": {
            "text/plain": [
              "array([[1, 0, 0],\n",
              "       [0, 1, 0],\n",
              "       [0, 0, 1]], dtype=int32)"
            ]
          },
          "metadata": {},
          "execution_count": 8
        }
      ]
    },
    {
      "cell_type": "code",
      "source": [
        "# Use Numpy to generate a random number between 0 and 1\n",
        "\n",
        "num = np.random.normal(0,1,1)\n",
        "num"
      ],
      "metadata": {
        "colab": {
          "base_uri": "https://localhost:8080/"
        },
        "id": "rRCP-J23m4h4",
        "outputId": "24b76df2-c7e6-482c-f790-2740523a35e8"
      },
      "execution_count": 9,
      "outputs": [
        {
          "output_type": "execute_result",
          "data": {
            "text/plain": [
              "array([0.60796668])"
            ]
          },
          "metadata": {},
          "execution_count": 9
        }
      ]
    },
    {
      "cell_type": "code",
      "source": [
        "# Use Numpy to generate an array of 25 Random numbers sampled from a normal distribution\n",
        "\n",
        "arr = np.random.normal(0,1,25)\n",
        "arr"
      ],
      "metadata": {
        "colab": {
          "base_uri": "https://localhost:8080/"
        },
        "id": "0J71_Jxop9bP",
        "outputId": "a2c723f1-f048-444d-b00a-a7a6ec682136"
      },
      "execution_count": 10,
      "outputs": [
        {
          "output_type": "execute_result",
          "data": {
            "text/plain": [
              "array([-0.30752735,  0.19345367,  1.1271233 ,  0.38880061,  0.78016542,\n",
              "       -0.46355325, -1.07096515,  1.96510265, -0.56104124,  0.22451957,\n",
              "        2.795523  ,  0.62215697,  0.28372061, -0.01131788,  0.35163923,\n",
              "        0.8500266 ,  0.85396856,  0.61055255, -0.32286501,  0.34990066,\n",
              "       -0.27822194, -0.91492333, -0.12791205, -2.21551481,  1.26843356])"
            ]
          },
          "metadata": {},
          "execution_count": 10
        }
      ]
    },
    {
      "cell_type": "code",
      "source": [
        "# Create an (10x10)array having number from 0.01 to 1 increasing by 0.01\n",
        "\n",
        "arr = np.linspace(0.01,1, num=100).reshape(10,10)\n",
        "arr"
      ],
      "metadata": {
        "colab": {
          "base_uri": "https://localhost:8080/"
        },
        "id": "S622_WCarzzx",
        "outputId": "12ce5df7-d5c5-4408-deb5-c2c1ab6d42d4"
      },
      "execution_count": 11,
      "outputs": [
        {
          "output_type": "execute_result",
          "data": {
            "text/plain": [
              "array([[0.01, 0.02, 0.03, 0.04, 0.05, 0.06, 0.07, 0.08, 0.09, 0.1 ],\n",
              "       [0.11, 0.12, 0.13, 0.14, 0.15, 0.16, 0.17, 0.18, 0.19, 0.2 ],\n",
              "       [0.21, 0.22, 0.23, 0.24, 0.25, 0.26, 0.27, 0.28, 0.29, 0.3 ],\n",
              "       [0.31, 0.32, 0.33, 0.34, 0.35, 0.36, 0.37, 0.38, 0.39, 0.4 ],\n",
              "       [0.41, 0.42, 0.43, 0.44, 0.45, 0.46, 0.47, 0.48, 0.49, 0.5 ],\n",
              "       [0.51, 0.52, 0.53, 0.54, 0.55, 0.56, 0.57, 0.58, 0.59, 0.6 ],\n",
              "       [0.61, 0.62, 0.63, 0.64, 0.65, 0.66, 0.67, 0.68, 0.69, 0.7 ],\n",
              "       [0.71, 0.72, 0.73, 0.74, 0.75, 0.76, 0.77, 0.78, 0.79, 0.8 ],\n",
              "       [0.81, 0.82, 0.83, 0.84, 0.85, 0.86, 0.87, 0.88, 0.89, 0.9 ],\n",
              "       [0.91, 0.92, 0.93, 0.94, 0.95, 0.96, 0.97, 0.98, 0.99, 1.  ]])"
            ]
          },
          "metadata": {},
          "execution_count": 11
        }
      ]
    },
    {
      "cell_type": "markdown",
      "source": [
        "# Numpy Indexing & Slicing"
      ],
      "metadata": {
        "id": "PTi_Ltcws9hO"
      }
    },
    {
      "cell_type": "code",
      "source": [
        "ar = (np.arange(25)+1).reshape(5,5)\n",
        "ar"
      ],
      "metadata": {
        "colab": {
          "base_uri": "https://localhost:8080/"
        },
        "id": "XhwKuLLQs5v7",
        "outputId": "b99518bf-4b0a-40c3-c11c-8092cc0ef4ee"
      },
      "execution_count": 12,
      "outputs": [
        {
          "output_type": "execute_result",
          "data": {
            "text/plain": [
              "array([[ 1,  2,  3,  4,  5],\n",
              "       [ 6,  7,  8,  9, 10],\n",
              "       [11, 12, 13, 14, 15],\n",
              "       [16, 17, 18, 19, 20],\n",
              "       [21, 22, 23, 24, 25]])"
            ]
          },
          "metadata": {},
          "execution_count": 12
        }
      ]
    },
    {
      "cell_type": "markdown",
      "source": [
        "extract array\n",
        "\n",
        "[ [12,13,14],\n",
        "\n",
        "[17,18,19],\n",
        "\n",
        "[22,23,24] ]"
      ],
      "metadata": {
        "id": "snsdM-UUtRZL"
      }
    },
    {
      "cell_type": "code",
      "source": [
        "new_ar = ar[2:,1:4]\n",
        "new_ar"
      ],
      "metadata": {
        "colab": {
          "base_uri": "https://localhost:8080/"
        },
        "id": "mLm3AIvttOJf",
        "outputId": "bd8818f3-f029-4697-88c4-08c7daff679f"
      },
      "execution_count": 13,
      "outputs": [
        {
          "output_type": "execute_result",
          "data": {
            "text/plain": [
              "array([[12, 13, 14],\n",
              "       [17, 18, 19],\n",
              "       [22, 23, 24]])"
            ]
          },
          "metadata": {},
          "execution_count": 13
        }
      ]
    },
    {
      "cell_type": "markdown",
      "source": [
        "extract array\n",
        "\n",
        "[ [14, 13, 12],\n",
        "\n",
        "[19, 18, 17],\n",
        "\n",
        "[24, 23, 22] ]"
      ],
      "metadata": {
        "id": "_SfHtHtTy4Qc"
      }
    },
    {
      "cell_type": "code",
      "source": [
        "new_ar1 = new_ar[:,::-1]"
      ],
      "metadata": {
        "id": "CdzoGygtyzCh"
      },
      "execution_count": 14,
      "outputs": []
    },
    {
      "cell_type": "markdown",
      "source": [
        "extract array\n",
        "\n",
        "[ [24, 23, 22],\n",
        "\n",
        "[19, 18, 17],\n",
        "\n",
        "[14, 13, 12],\n",
        "]"
      ],
      "metadata": {
        "id": "TJwJgimGNSYw"
      }
    },
    {
      "cell_type": "code",
      "source": [
        "new_ar2 = new_ar1[::-1,:];\n",
        "new_ar2"
      ],
      "metadata": {
        "colab": {
          "base_uri": "https://localhost:8080/"
        },
        "id": "T7ZLPlAKNRP9",
        "outputId": "493fb0d6-caba-41b7-dd69-a6233fcdb848"
      },
      "execution_count": 15,
      "outputs": [
        {
          "output_type": "execute_result",
          "data": {
            "text/plain": [
              "array([[24, 23, 22],\n",
              "       [19, 18, 17],\n",
              "       [14, 13, 12]])"
            ]
          },
          "metadata": {},
          "execution_count": 15
        }
      ]
    },
    {
      "cell_type": "markdown",
      "source": [
        "# Split Concatenate"
      ],
      "metadata": {
        "id": "uO-30Na2OIkT"
      }
    },
    {
      "cell_type": "code",
      "source": [
        "ar = np.arange(2,10)\n",
        "ar"
      ],
      "metadata": {
        "colab": {
          "base_uri": "https://localhost:8080/"
        },
        "id": "6elAhrphOFcG",
        "outputId": "ab7d3de9-8585-4b34-d349-1e29c92446ae"
      },
      "execution_count": 16,
      "outputs": [
        {
          "output_type": "execute_result",
          "data": {
            "text/plain": [
              "array([2, 3, 4, 5, 6, 7, 8, 9])"
            ]
          },
          "metadata": {},
          "execution_count": 16
        }
      ]
    },
    {
      "cell_type": "markdown",
      "source": [
        "Split array to generate 3 arrays with content\n",
        "\n",
        "[2,3,4]\n",
        "\n",
        "[5, 6]\n",
        "\n",
        "[]\n",
        "\n",
        "[7,8,9]"
      ],
      "metadata": {
        "id": "DYd95qRLOUom"
      }
    },
    {
      "cell_type": "code",
      "source": [
        "np.split(ar, [3,5])\n"
      ],
      "metadata": {
        "colab": {
          "base_uri": "https://localhost:8080/"
        },
        "id": "M7J4EvapOUCu",
        "outputId": "6cd9c020-4676-4c65-95c7-e3a8608131af"
      },
      "execution_count": 17,
      "outputs": [
        {
          "output_type": "execute_result",
          "data": {
            "text/plain": [
              "[array([2, 3, 4]), array([5, 6]), array([7, 8, 9])]"
            ]
          },
          "metadata": {},
          "execution_count": 17
        }
      ]
    },
    {
      "cell_type": "markdown",
      "source": [
        "# 2D"
      ],
      "metadata": {
        "id": "Yp_fyymyWaLF"
      }
    },
    {
      "cell_type": "code",
      "source": [
        "a = np.array([\n",
        "              [1,2,3],\n",
        "              [4,5,6]\n",
        "])\n",
        "b = np.array([\n",
        "              [7,8,9]\n",
        "])"
      ],
      "metadata": {
        "id": "hoL131oxWZtu"
      },
      "execution_count": 18,
      "outputs": []
    },
    {
      "cell_type": "markdown",
      "source": [
        "Concatinate array to create new array with content\n",
        "\n",
        "[ [1,2,3],\n",
        "\n",
        "[4,5,6],\n",
        "\n",
        "[7,8,9] ]"
      ],
      "metadata": {
        "id": "YGTnJmgYWjqu"
      }
    },
    {
      "cell_type": "code",
      "source": [
        "np.concatenate((a,b))"
      ],
      "metadata": {
        "colab": {
          "base_uri": "https://localhost:8080/"
        },
        "id": "W0MlrvvCWjCI",
        "outputId": "7cb0c583-0d54-4fa0-d5eb-bfdc259e106a"
      },
      "execution_count": 19,
      "outputs": [
        {
          "output_type": "execute_result",
          "data": {
            "text/plain": [
              "array([[1, 2, 3],\n",
              "       [4, 5, 6],\n",
              "       [7, 8, 9]])"
            ]
          },
          "metadata": {},
          "execution_count": 19
        }
      ]
    },
    {
      "cell_type": "code",
      "source": [
        "a = np.array([\n",
        "              [1,2,3],\n",
        "              [4,5,6]\n",
        "])\n",
        "b = np.array([\n",
        "              [7,8,9, 10],\n",
        "              [11, 12, 13, 14]\n",
        "])"
      ],
      "metadata": {
        "id": "OuMGdz5wXw6q"
      },
      "execution_count": 20,
      "outputs": []
    },
    {
      "cell_type": "markdown",
      "source": [
        "Concatinate array to create new array with content\n",
        "\n",
        "[\n",
        "\n",
        "[1,2,3, 7,8,9, 10],\n",
        "\n",
        "[4,5,6, 11, 12, 13, 14]\n",
        "\n",
        "]"
      ],
      "metadata": {
        "id": "w55Xcd9iX6u3"
      }
    },
    {
      "cell_type": "code",
      "source": [
        "np.concatenate((a,b),axis=1)"
      ],
      "metadata": {
        "colab": {
          "base_uri": "https://localhost:8080/"
        },
        "id": "t_oQzhRCX6Fk",
        "outputId": "b35fbf69-2371-4b9c-caae-57ee16a6863c"
      },
      "execution_count": 21,
      "outputs": [
        {
          "output_type": "execute_result",
          "data": {
            "text/plain": [
              "array([[ 1,  2,  3,  7,  8,  9, 10],\n",
              "       [ 4,  5,  6, 11, 12, 13, 14]])"
            ]
          },
          "metadata": {},
          "execution_count": 21
        }
      ]
    },
    {
      "cell_type": "markdown",
      "source": [
        "# Broadcasting and Indexing"
      ],
      "metadata": {
        "id": "gmRB_fqJYHLW"
      }
    },
    {
      "cell_type": "markdown",
      "source": [
        "count how many numbers are minimum in ar\n",
        "\n",
        "example for arr = [2, 4, 6, 2, 9, 2]\n",
        "\n",
        "min is 2\n",
        "\n",
        "there are 3 occurences of 2"
      ],
      "metadata": {
        "id": "49TLrzDMYOeC"
      }
    },
    {
      "cell_type": "code",
      "source": [
        "arr = np.round(np.random.rand(10)*10)\n",
        "print(arr)\n",
        "print(arr.min())\n",
        "unique,counts = np.unique(arr, return_counts=True)\n",
        "dict(zip(unique,counts))"
      ],
      "metadata": {
        "colab": {
          "base_uri": "https://localhost:8080/"
        },
        "id": "bVjG8OyBYDNn",
        "outputId": "cf6bd750-064e-4474-800e-92e3d0dbc322"
      },
      "execution_count": 22,
      "outputs": [
        {
          "output_type": "stream",
          "name": "stdout",
          "text": [
            "[8. 8. 5. 1. 2. 8. 8. 8. 0. 5.]\n",
            "0.0\n"
          ]
        },
        {
          "output_type": "execute_result",
          "data": {
            "text/plain": [
              "{0.0: 1, 1.0: 1, 2.0: 1, 5.0: 2, 8.0: 5}"
            ]
          },
          "metadata": {},
          "execution_count": 22
        }
      ]
    },
    {
      "cell_type": "code",
      "source": [
        "ar = np.round(np.random.rand(10)*10)\n",
        "ar"
      ],
      "metadata": {
        "colab": {
          "base_uri": "https://localhost:8080/"
        },
        "id": "r_4cObj3bpk9",
        "outputId": "9bafc90c-62d0-49c5-d171-5c56d0959b99"
      },
      "execution_count": 23,
      "outputs": [
        {
          "output_type": "execute_result",
          "data": {
            "text/plain": [
              "array([10.,  1.,  9., 10.,  6.,  2., 10.,  6.,  4.,  4.])"
            ]
          },
          "metadata": {},
          "execution_count": 23
        }
      ]
    },
    {
      "cell_type": "markdown",
      "source": [
        "create new array containing all numbers which are smaller than 10 in ar"
      ],
      "metadata": {
        "id": "owL84gmpaWGt"
      }
    },
    {
      "cell_type": "code",
      "source": [
        "ar_new = ar[ar<10]\n",
        "ar_new"
      ],
      "metadata": {
        "id": "HNQF4h1EaBz8",
        "colab": {
          "base_uri": "https://localhost:8080/"
        },
        "outputId": "9e521726-df15-4ad2-d154-6866c6d25b7c"
      },
      "execution_count": 24,
      "outputs": [
        {
          "output_type": "execute_result",
          "data": {
            "text/plain": [
              "array([1., 9., 6., 2., 6., 4., 4.])"
            ]
          },
          "metadata": {},
          "execution_count": 24
        }
      ]
    },
    {
      "cell_type": "markdown",
      "source": [
        "create new array containing all numbers which are in range [3, 11] in ar"
      ],
      "metadata": {
        "id": "2ttr9vYJcaNq"
      }
    },
    {
      "cell_type": "code",
      "source": [
        "ar_new = ar[(ar>3) & (ar<11)]\n",
        "ar_new"
      ],
      "metadata": {
        "colab": {
          "base_uri": "https://localhost:8080/"
        },
        "id": "1UNKT4cM9mjX",
        "outputId": "8786e992-44b5-4356-d95b-23b363c5b515"
      },
      "execution_count": 25,
      "outputs": [
        {
          "output_type": "execute_result",
          "data": {
            "text/plain": [
              "array([10.,  9., 10.,  6., 10.,  6.,  4.,  4.])"
            ]
          },
          "metadata": {},
          "execution_count": 25
        }
      ]
    },
    {
      "cell_type": "markdown",
      "source": [
        "Create an array of length 20 with first 15 numbers equal to 2 and last 5 numbers = -5"
      ],
      "metadata": {
        "id": "Ed5-qgkQ-vhZ"
      }
    },
    {
      "cell_type": "code",
      "source": [
        "arr = np.ones(15, dtype='int32')*2\n",
        "arr1 = np.ones(5, dtype='int32')*-5\n",
        "\n",
        "res = np.concatenate([arr,arr1])\n",
        "print(res)\n",
        "len(res)"
      ],
      "metadata": {
        "colab": {
          "base_uri": "https://localhost:8080/"
        },
        "id": "9WsoZqp3-oEv",
        "outputId": "6c5b1485-4c8f-4e8f-c3b9-e59116100a49"
      },
      "execution_count": 26,
      "outputs": [
        {
          "output_type": "stream",
          "name": "stdout",
          "text": [
            "[ 2  2  2  2  2  2  2  2  2  2  2  2  2  2  2 -5 -5 -5 -5 -5]\n"
          ]
        },
        {
          "output_type": "execute_result",
          "data": {
            "text/plain": [
              "20"
            ]
          },
          "metadata": {},
          "execution_count": 26
        }
      ]
    },
    {
      "cell_type": "markdown",
      "source": [
        "Sum Min Max of All Elements"
      ],
      "metadata": {
        "id": "BS_Yv8IUcC14"
      }
    },
    {
      "cell_type": "code",
      "source": [
        "mat = np.array(\n",
        "    [[57., 33., 44., 36., 11., 75., 51., 22., 86., 13.],\n",
        "       [51., 16., 30., 92., 66., 54., 73.,  2., 25., 12.],\n",
        "       [68., 14., 90., 27., 44., 54., 26., 61.,  1.,  3.],\n",
        "       [86., 82., 10., 76., 12.,  1., 15., 89., 75., 12.],\n",
        "       [85.,  6., 80., 14., 99., 12., 72., 14., 27., 20.]]\n",
        ")\n",
        "mat"
      ],
      "metadata": {
        "colab": {
          "base_uri": "https://localhost:8080/"
        },
        "id": "g3Tnvupmb_sx",
        "outputId": "aff117c8-a602-4309-bdc5-8e9daa7eca63"
      },
      "execution_count": 27,
      "outputs": [
        {
          "output_type": "execute_result",
          "data": {
            "text/plain": [
              "array([[57., 33., 44., 36., 11., 75., 51., 22., 86., 13.],\n",
              "       [51., 16., 30., 92., 66., 54., 73.,  2., 25., 12.],\n",
              "       [68., 14., 90., 27., 44., 54., 26., 61.,  1.,  3.],\n",
              "       [86., 82., 10., 76., 12.,  1., 15., 89., 75., 12.],\n",
              "       [85.,  6., 80., 14., 99., 12., 72., 14., 27., 20.]])"
            ]
          },
          "metadata": {},
          "execution_count": 27
        }
      ]
    },
    {
      "cell_type": "code",
      "source": [
        "print(mat.min())\n",
        "print(mat.max())\n",
        "print(mat.sum())"
      ],
      "metadata": {
        "colab": {
          "base_uri": "https://localhost:8080/"
        },
        "id": "Aa8jA-GoejKe",
        "outputId": "870e5ff7-cdc3-47f8-a19a-0bdf86833182"
      },
      "execution_count": 28,
      "outputs": [
        {
          "output_type": "stream",
          "name": "stdout",
          "text": [
            "1.0\n",
            "99.0\n",
            "2124.0\n"
          ]
        }
      ]
    },
    {
      "cell_type": "markdown",
      "source": [
        "Standard Deviation of Matrix"
      ],
      "metadata": {
        "id": "FIKwJuLHgFzE"
      }
    },
    {
      "cell_type": "code",
      "source": [
        "print(mat.std())"
      ],
      "metadata": {
        "colab": {
          "base_uri": "https://localhost:8080/"
        },
        "id": "wn9BrY5hgD7W",
        "outputId": "dce44d50-89b6-46ad-c352-734da9cfb495"
      },
      "execution_count": 29,
      "outputs": [
        {
          "output_type": "stream",
          "name": "stdout",
          "text": [
            "30.531452634946806\n"
          ]
        }
      ]
    },
    {
      "cell_type": "markdown",
      "source": [
        "Sum of all columns of matrix"
      ],
      "metadata": {
        "id": "-EqxzFpTgRkm"
      }
    },
    {
      "cell_type": "code",
      "source": [
        "print(mat.sum(axis=0))"
      ],
      "metadata": {
        "colab": {
          "base_uri": "https://localhost:8080/"
        },
        "id": "mqBqOdw7gRG1",
        "outputId": "1b8045d2-343f-4131-da04-370df0794fba"
      },
      "execution_count": 30,
      "outputs": [
        {
          "output_type": "stream",
          "name": "stdout",
          "text": [
            "[347. 151. 254. 245. 232. 196. 237. 188. 214.  60.]\n"
          ]
        }
      ]
    },
    {
      "cell_type": "markdown",
      "source": [
        "create array of dimension same as arr using arr.shape variable"
      ],
      "metadata": {
        "id": "-TT4XHS5Q9Cq"
      }
    },
    {
      "cell_type": "code",
      "source": [
        "arr = np.arange(100).reshape(4,5,5)\n",
        "print(arr)\n",
        "dim = arr.shape"
      ],
      "metadata": {
        "id": "Rf6L192Ns94n",
        "colab": {
          "base_uri": "https://localhost:8080/"
        },
        "outputId": "823f11c7-6ac4-4fc5-b35b-47cace1725c1"
      },
      "execution_count": 34,
      "outputs": [
        {
          "output_type": "stream",
          "name": "stdout",
          "text": [
            "[[[ 0  1  2  3  4]\n",
            "  [ 5  6  7  8  9]\n",
            "  [10 11 12 13 14]\n",
            "  [15 16 17 18 19]\n",
            "  [20 21 22 23 24]]\n",
            "\n",
            " [[25 26 27 28 29]\n",
            "  [30 31 32 33 34]\n",
            "  [35 36 37 38 39]\n",
            "  [40 41 42 43 44]\n",
            "  [45 46 47 48 49]]\n",
            "\n",
            " [[50 51 52 53 54]\n",
            "  [55 56 57 58 59]\n",
            "  [60 61 62 63 64]\n",
            "  [65 66 67 68 69]\n",
            "  [70 71 72 73 74]]\n",
            "\n",
            " [[75 76 77 78 79]\n",
            "  [80 81 82 83 84]\n",
            "  [85 86 87 88 89]\n",
            "  [90 91 92 93 94]\n",
            "  [95 96 97 98 99]]]\n"
          ]
        }
      ]
    },
    {
      "cell_type": "code",
      "source": [
        "arr2 = np.arange(arr.size).reshape(arr.shape)\n",
        "arr2"
      ],
      "metadata": {
        "id": "UDji9gYKgtNK",
        "colab": {
          "base_uri": "https://localhost:8080/"
        },
        "outputId": "90b92a53-5386-4c5c-8e69-557b1ae2ed61"
      },
      "execution_count": 36,
      "outputs": [
        {
          "output_type": "execute_result",
          "data": {
            "text/plain": [
              "array([[[ 0,  1,  2,  3,  4],\n",
              "        [ 5,  6,  7,  8,  9],\n",
              "        [10, 11, 12, 13, 14],\n",
              "        [15, 16, 17, 18, 19],\n",
              "        [20, 21, 22, 23, 24]],\n",
              "\n",
              "       [[25, 26, 27, 28, 29],\n",
              "        [30, 31, 32, 33, 34],\n",
              "        [35, 36, 37, 38, 39],\n",
              "        [40, 41, 42, 43, 44],\n",
              "        [45, 46, 47, 48, 49]],\n",
              "\n",
              "       [[50, 51, 52, 53, 54],\n",
              "        [55, 56, 57, 58, 59],\n",
              "        [60, 61, 62, 63, 64],\n",
              "        [65, 66, 67, 68, 69],\n",
              "        [70, 71, 72, 73, 74]],\n",
              "\n",
              "       [[75, 76, 77, 78, 79],\n",
              "        [80, 81, 82, 83, 84],\n",
              "        [85, 86, 87, 88, 89],\n",
              "        [90, 91, 92, 93, 94],\n",
              "        [95, 96, 97, 98, 99]]])"
            ]
          },
          "metadata": {},
          "execution_count": 36
        }
      ]
    }
  ]
}