{
  "nbformat": 4,
  "nbformat_minor": 0,
  "metadata": {
    "colab": {
      "name": "Numpy Tutorial.ipynb",
      "provenance": [],
      "collapsed_sections": [],
      "authorship_tag": "ABX9TyNQ9IcTjQO3PZblBXuGXgg4",
      "include_colab_link": true
    },
    "kernelspec": {
      "name": "python3",
      "display_name": "Python 3"
    },
    "language_info": {
      "name": "python"
    }
  },
  "cells": [
    {
      "cell_type": "markdown",
      "metadata": {
        "id": "view-in-github",
        "colab_type": "text"
      },
      "source": [
        "<a href=\"https://colab.research.google.com/github/sks95/python_basics/blob/main/Numpy_Tutorial.ipynb\" target=\"_parent\"><img src=\"https://colab.research.google.com/assets/colab-badge.svg\" alt=\"Open In Colab\"/></a>"
      ]
    },
    {
      "cell_type": "code",
      "execution_count": null,
      "metadata": {
        "colab": {
          "base_uri": "https://localhost:8080/"
        },
        "id": "Evnf9q_xChR4",
        "outputId": "d7e6afc7-9818-4fa3-84ca-409a583fef20"
      },
      "outputs": [
        {
          "output_type": "stream",
          "name": "stdout",
          "text": [
            "[1 2 3 4 5]\n",
            "<class 'numpy.ndarray'>\n",
            "[[1 2 3]\n",
            " [4 5 3]\n",
            " [4 5 6]\n",
            " [7 9 8]\n",
            " [7 6 5]]\n",
            "[[1 2 3 4 5]\n",
            " [3 4 5 6 7]\n",
            " [9 8 7 6 5]]\n"
          ]
        }
      ],
      "source": [
        "# Numpy Tutorials\n",
        "# Numpy is an array processing package\n",
        "\n",
        "import numpy as np;\n",
        "\n",
        "my_1st = [1,2,3,4,5];\n",
        "arr = np.array(my_1st);\n",
        "print(arr);\n",
        "print(type(arr));\n",
        "arr.shape\n",
        "arr"
      ]
    },
    {
      "cell_type": "code",
      "source": [
        "# Multinested array\n",
        "my_list1 = [1,2,3,4,5];\n",
        "my_list2 = [3,4,5,6,7];\n",
        "my_list3 = [9,8,7,6,5];\n",
        "\n",
        "arr = np.array([my_list1,my_list2,my_list3]);\n",
        "print(arr)\n",
        "print(arr.shape)\n",
        "print(arr.reshape(5,3));\n",
        "print(arr)\n",
        "\n",
        "# Indexing in array\n",
        "\n",
        "print(arr[0:1,:]);\n",
        "print(arr[0:2,0:2]);\n",
        "print(arr[1:3,3:5]);\n",
        "print(arr[1:,1:]);"
      ],
      "metadata": {
        "colab": {
          "base_uri": "https://localhost:8080/"
        },
        "id": "Y0MZuUZVUK3H",
        "outputId": "814c6b0b-90d9-4d9a-c2b1-1dde9cf73bee"
      },
      "execution_count": null,
      "outputs": [
        {
          "output_type": "stream",
          "name": "stdout",
          "text": [
            "[[1 2 3 4 5]\n",
            " [3 4 5 6 7]\n",
            " [9 8 7 6 5]]\n",
            "(3, 5)\n",
            "[[1 2 3]\n",
            " [4 5 3]\n",
            " [4 5 6]\n",
            " [7 9 8]\n",
            " [7 6 5]]\n",
            "[[1 2 3 4 5]\n",
            " [3 4 5 6 7]\n",
            " [9 8 7 6 5]]\n",
            "[[1 2 3 4 5]]\n",
            "[[1 2]\n",
            " [3 4]]\n",
            "[[6 7]\n",
            " [6 5]]\n",
            "[[4 5 6 7]\n",
            " [8 7 6 5]]\n"
          ]
        }
      ]
    },
    {
      "cell_type": "code",
      "source": [
        "# define range \n",
        "\n",
        "test=np.arange(0,20,step=2);\n",
        "print(test);\n",
        "test[5:]=100;\n",
        "print(test);\n",
        "print(np.linspace(1,10,50));"
      ],
      "metadata": {
        "colab": {
          "base_uri": "https://localhost:8080/"
        },
        "id": "lWiZoh4GVIiY",
        "outputId": "e0a3842e-5d35-4383-838c-792a5b08e3a2"
      },
      "execution_count": null,
      "outputs": [
        {
          "output_type": "stream",
          "name": "stdout",
          "text": [
            "[ 0  2  4  6  8 10 12 14 16 18]\n",
            "[ 1.          1.18367347  1.36734694  1.55102041  1.73469388  1.91836735\n",
            "  2.10204082  2.28571429  2.46938776  2.65306122  2.83673469  3.02040816\n",
            "  3.20408163  3.3877551   3.57142857  3.75510204  3.93877551  4.12244898\n",
            "  4.30612245  4.48979592  4.67346939  4.85714286  5.04081633  5.2244898\n",
            "  5.40816327  5.59183673  5.7755102   5.95918367  6.14285714  6.32653061\n",
            "  6.51020408  6.69387755  6.87755102  7.06122449  7.24489796  7.42857143\n",
            "  7.6122449   7.79591837  7.97959184  8.16326531  8.34693878  8.53061224\n",
            "  8.71428571  8.89795918  9.08163265  9.26530612  9.44897959  9.63265306\n",
            "  9.81632653 10.        ]\n",
            "[  0   2   4   6   8 100 100 100 100 100]\n"
          ]
        }
      ]
    },
    {
      "cell_type": "code",
      "source": [
        "# concept of shallow copy and deep copy\n",
        "x = np.array([1,2,3]);\n",
        "y = x;  \n",
        "z = np.copy(x);   \n",
        "x[0] = 10\n",
        "print(x);\n",
        "print(y);\n",
        "print(z);\n",
        "\n",
        "a = np.array([1, 'm', [2,3,4]],dtype=object);\n",
        "print(a);\n",
        "b = np.copy(a);\n",
        "b[2][0] = 10;\n",
        "print(a);\n",
        "\n",
        "# To ensure all elements within an object array are copied, use copy.deepcopy\n",
        "import copy;\n",
        "c = np.array([1, 'm', [2,3,4]], dtype=object);\n",
        "d = copy.deepcopy(c);\n",
        "print(\"c =\",c);\n",
        "d[2][0] = 10;\n",
        "print(\"d =\",d);\n",
        "print(\"c =\",c);"
      ],
      "metadata": {
        "colab": {
          "base_uri": "https://localhost:8080/"
        },
        "id": "Kxj0765UobcH",
        "outputId": "f6dbc8b4-ea08-4915-fd0c-3cbd2701d2bf"
      },
      "execution_count": null,
      "outputs": [
        {
          "output_type": "stream",
          "name": "stdout",
          "text": [
            "[10  2  3]\n",
            "[10  2  3]\n",
            "[1 2 3]\n",
            "[1 'm' list([2, 3, 4])]\n",
            "[1 'm' list([10, 3, 4])]\n",
            "c = [1 'm' list([2, 3, 4])]\n",
            "d = [1 'm' list([10, 3, 4])]\n",
            "c = [1 'm' list([2, 3, 4])]\n"
          ]
        }
      ]
    },
    {
      "cell_type": "code",
      "source": [
        "# Some conditions useful for Exploratory Data Analysis\n",
        "print(test);\n",
        "print(test>=100)\n",
        "print(test*2)\n",
        "print(test[test<100])"
      ],
      "metadata": {
        "colab": {
          "base_uri": "https://localhost:8080/"
        },
        "id": "LH5Qi1-6BcLk",
        "outputId": "3ed4cd22-c140-43b7-e857-0c1b8384b0c9"
      },
      "execution_count": null,
      "outputs": [
        {
          "output_type": "stream",
          "name": "stdout",
          "text": [
            "[  0   2   4   6   8 100 100 100 100 100]\n",
            "[False False False False False  True  True  True  True  True]\n",
            "[  0   4   8  12  16 200 200 200 200 200]\n",
            "[0 2 4 6 8]\n"
          ]
        }
      ]
    },
    {
      "cell_type": "code",
      "source": [
        "# Create arrays and Reshape\n",
        "\n",
        "print(np.arange(0,10).reshape(5,2))\n",
        "print(np.ones(6))     # by default float -> tabhi . aya\n",
        "print(np.ones((2,5),dtype=int))"
      ],
      "metadata": {
        "colab": {
          "base_uri": "https://localhost:8080/"
        },
        "id": "zpqLj6aqChBr",
        "outputId": "757ea59f-2a74-49c4-a573-ae2bb9caf9d7"
      },
      "execution_count": null,
      "outputs": [
        {
          "output_type": "stream",
          "name": "stdout",
          "text": [
            "[[0 1]\n",
            " [2 3]\n",
            " [4 5]\n",
            " [6 7]\n",
            " [8 9]]\n",
            "[1. 1. 1. 1. 1. 1.]\n",
            "[[1 1 1 1 1]\n",
            " [1 1 1 1 1]]\n"
          ]
        }
      ]
    },
    {
      "cell_type": "code",
      "source": [
        "# create random distribution\n",
        "\n",
        "print(np.random.rand(3,3))\n",
        "print(np.random.randn(4,4))  # n -> standard normal distribution\n",
        "print(np.random.randint(40,100,8)) # randint(low_val, high_val, no_of_val)"
      ],
      "metadata": {
        "colab": {
          "base_uri": "https://localhost:8080/"
        },
        "id": "kYC5sZVWMS6o",
        "outputId": "d654ca63-5df8-4bcb-aee5-1eeb9182faf4"
      },
      "execution_count": null,
      "outputs": [
        {
          "output_type": "stream",
          "name": "stdout",
          "text": [
            "[[0.8451214  0.54732289 0.3210615 ]\n",
            " [0.10660234 0.39243668 0.7405664 ]\n",
            " [0.49479865 0.5335026  0.79067442]]\n",
            "[[-0.58586168  0.44185663 -0.54967591  0.22750074]\n",
            " [ 1.14709367 -0.8899114   0.16927388 -0.0674095 ]\n",
            " [ 0.89487577 -1.0814201   0.2369916   1.04370922]\n",
            " [ 0.60408361 -1.46332744 -1.44686453  2.05692393]]\n"
          ]
        },
        {
          "output_type": "execute_result",
          "data": {
            "text/plain": [
              "array([72, 68, 66, 63, 77, 93, 91, 89])"
            ]
          },
          "metadata": {},
          "execution_count": 71
        }
      ]
    }
  ]
}